{
 "cells": [
  {
   "cell_type": "markdown",
   "id": "8be7890f",
   "metadata": {},
   "source": [
    "# Importing"
   ]
  },
  {
   "cell_type": "code",
   "execution_count": 1,
   "id": "c7bca937",
   "metadata": {},
   "outputs": [],
   "source": [
    "# importing libraries\n",
    "import pandas as pd\n",
    "import numpy as np\n",
    "import seaborn as sns\n",
    "import os\n",
    "import operator\n",
    "import matplotlib.pyplot as plt\n",
    "import tensorflow as tf\n",
    "from tensorflow import keras\n",
    "from numpy import unique\n",
    "from numpy import reshape\n",
    "from keras.models import Sequential\n",
    "from keras.layers import Conv1D, Conv2D, Dense, BatchNormalization, Flatten, MaxPooling1D, Dropout, LSTM\n",
    "from keras.utils import to_categorical\n",
    "from sklearn.model_selection import train_test_split\n",
    "from sklearn.preprocessing import LabelEncoder"
   ]
  },
  {
   "cell_type": "code",
   "execution_count": 2,
   "id": "2b15655c",
   "metadata": {},
   "outputs": [],
   "source": [
    "# importing climate and pleasant weather data sets\n",
    "path = r'C:\\Users\\Administrator\\Desktop\\Projects (Carrer foundry)\\Data sets'\n",
    "climate = pd.read_csv(os.path.join(path, 'Dataset-weather-prediction-dataset-processed.csv'))\n",
    "climate_answers = pd.read_csv(os.path.join(path, 'Dataset-Answers-Weather_Prediction_Pleasant_Weather.csv'))"
   ]
  },
  {
   "cell_type": "code",
   "execution_count": 3,
   "id": "4efde943",
   "metadata": {},
   "outputs": [
    {
     "data": {
      "text/html": [
       "<div>\n",
       "<style scoped>\n",
       "    .dataframe tbody tr th:only-of-type {\n",
       "        vertical-align: middle;\n",
       "    }\n",
       "\n",
       "    .dataframe tbody tr th {\n",
       "        vertical-align: top;\n",
       "    }\n",
       "\n",
       "    .dataframe thead th {\n",
       "        text-align: right;\n",
       "    }\n",
       "</style>\n",
       "<table border=\"1\" class=\"dataframe\">\n",
       "  <thead>\n",
       "    <tr style=\"text-align: right;\">\n",
       "      <th></th>\n",
       "      <th>DATE</th>\n",
       "      <th>MONTH</th>\n",
       "      <th>BASEL_cloud_cover</th>\n",
       "      <th>BASEL_wind_speed</th>\n",
       "      <th>BASEL_humidity</th>\n",
       "      <th>BASEL_pressure</th>\n",
       "      <th>BASEL_global_radiation</th>\n",
       "      <th>BASEL_precipitation</th>\n",
       "      <th>BASEL_snow_depth</th>\n",
       "      <th>BASEL_sunshine</th>\n",
       "      <th>...</th>\n",
       "      <th>VALENTIA_cloud_cover</th>\n",
       "      <th>VALENTIA_humidity</th>\n",
       "      <th>VALENTIA_pressure</th>\n",
       "      <th>VALENTIA_global_radiation</th>\n",
       "      <th>VALENTIA_precipitation</th>\n",
       "      <th>VALENTIA_snow_depth</th>\n",
       "      <th>VALENTIA_sunshine</th>\n",
       "      <th>VALENTIA_temp_mean</th>\n",
       "      <th>VALENTIA_temp_min</th>\n",
       "      <th>VALENTIA_temp_max</th>\n",
       "    </tr>\n",
       "  </thead>\n",
       "  <tbody>\n",
       "    <tr>\n",
       "      <th>0</th>\n",
       "      <td>19600101</td>\n",
       "      <td>1</td>\n",
       "      <td>7</td>\n",
       "      <td>2.1</td>\n",
       "      <td>0.85</td>\n",
       "      <td>1.018</td>\n",
       "      <td>0.32</td>\n",
       "      <td>0.09</td>\n",
       "      <td>0</td>\n",
       "      <td>0.7</td>\n",
       "      <td>...</td>\n",
       "      <td>5</td>\n",
       "      <td>0.88</td>\n",
       "      <td>1.0003</td>\n",
       "      <td>0.45</td>\n",
       "      <td>0.34</td>\n",
       "      <td>0</td>\n",
       "      <td>4.7</td>\n",
       "      <td>8.5</td>\n",
       "      <td>6.0</td>\n",
       "      <td>10.9</td>\n",
       "    </tr>\n",
       "    <tr>\n",
       "      <th>1</th>\n",
       "      <td>19600102</td>\n",
       "      <td>1</td>\n",
       "      <td>6</td>\n",
       "      <td>2.1</td>\n",
       "      <td>0.84</td>\n",
       "      <td>1.018</td>\n",
       "      <td>0.36</td>\n",
       "      <td>1.05</td>\n",
       "      <td>0</td>\n",
       "      <td>1.1</td>\n",
       "      <td>...</td>\n",
       "      <td>7</td>\n",
       "      <td>0.91</td>\n",
       "      <td>1.0007</td>\n",
       "      <td>0.25</td>\n",
       "      <td>0.84</td>\n",
       "      <td>0</td>\n",
       "      <td>0.7</td>\n",
       "      <td>8.9</td>\n",
       "      <td>5.6</td>\n",
       "      <td>12.1</td>\n",
       "    </tr>\n",
       "    <tr>\n",
       "      <th>2</th>\n",
       "      <td>19600103</td>\n",
       "      <td>1</td>\n",
       "      <td>8</td>\n",
       "      <td>2.1</td>\n",
       "      <td>0.90</td>\n",
       "      <td>1.018</td>\n",
       "      <td>0.18</td>\n",
       "      <td>0.30</td>\n",
       "      <td>0</td>\n",
       "      <td>0.0</td>\n",
       "      <td>...</td>\n",
       "      <td>7</td>\n",
       "      <td>0.91</td>\n",
       "      <td>1.0096</td>\n",
       "      <td>0.17</td>\n",
       "      <td>0.08</td>\n",
       "      <td>0</td>\n",
       "      <td>0.1</td>\n",
       "      <td>10.5</td>\n",
       "      <td>8.1</td>\n",
       "      <td>12.9</td>\n",
       "    </tr>\n",
       "    <tr>\n",
       "      <th>3</th>\n",
       "      <td>19600104</td>\n",
       "      <td>1</td>\n",
       "      <td>3</td>\n",
       "      <td>2.1</td>\n",
       "      <td>0.92</td>\n",
       "      <td>1.018</td>\n",
       "      <td>0.58</td>\n",
       "      <td>0.00</td>\n",
       "      <td>0</td>\n",
       "      <td>4.1</td>\n",
       "      <td>...</td>\n",
       "      <td>7</td>\n",
       "      <td>0.86</td>\n",
       "      <td>1.0184</td>\n",
       "      <td>0.13</td>\n",
       "      <td>0.98</td>\n",
       "      <td>0</td>\n",
       "      <td>0.0</td>\n",
       "      <td>7.4</td>\n",
       "      <td>7.3</td>\n",
       "      <td>10.6</td>\n",
       "    </tr>\n",
       "    <tr>\n",
       "      <th>4</th>\n",
       "      <td>19600105</td>\n",
       "      <td>1</td>\n",
       "      <td>6</td>\n",
       "      <td>2.1</td>\n",
       "      <td>0.95</td>\n",
       "      <td>1.018</td>\n",
       "      <td>0.65</td>\n",
       "      <td>0.14</td>\n",
       "      <td>0</td>\n",
       "      <td>5.4</td>\n",
       "      <td>...</td>\n",
       "      <td>3</td>\n",
       "      <td>0.80</td>\n",
       "      <td>1.0328</td>\n",
       "      <td>0.46</td>\n",
       "      <td>0.00</td>\n",
       "      <td>0</td>\n",
       "      <td>5.7</td>\n",
       "      <td>5.7</td>\n",
       "      <td>3.0</td>\n",
       "      <td>8.4</td>\n",
       "    </tr>\n",
       "  </tbody>\n",
       "</table>\n",
       "<p>5 rows × 170 columns</p>\n",
       "</div>"
      ],
      "text/plain": [
       "       DATE  MONTH  BASEL_cloud_cover  BASEL_wind_speed  BASEL_humidity  \\\n",
       "0  19600101      1                  7               2.1            0.85   \n",
       "1  19600102      1                  6               2.1            0.84   \n",
       "2  19600103      1                  8               2.1            0.90   \n",
       "3  19600104      1                  3               2.1            0.92   \n",
       "4  19600105      1                  6               2.1            0.95   \n",
       "\n",
       "   BASEL_pressure  BASEL_global_radiation  BASEL_precipitation  \\\n",
       "0           1.018                    0.32                 0.09   \n",
       "1           1.018                    0.36                 1.05   \n",
       "2           1.018                    0.18                 0.30   \n",
       "3           1.018                    0.58                 0.00   \n",
       "4           1.018                    0.65                 0.14   \n",
       "\n",
       "   BASEL_snow_depth  BASEL_sunshine  ...  VALENTIA_cloud_cover  \\\n",
       "0                 0             0.7  ...                     5   \n",
       "1                 0             1.1  ...                     7   \n",
       "2                 0             0.0  ...                     7   \n",
       "3                 0             4.1  ...                     7   \n",
       "4                 0             5.4  ...                     3   \n",
       "\n",
       "   VALENTIA_humidity  VALENTIA_pressure  VALENTIA_global_radiation  \\\n",
       "0               0.88             1.0003                       0.45   \n",
       "1               0.91             1.0007                       0.25   \n",
       "2               0.91             1.0096                       0.17   \n",
       "3               0.86             1.0184                       0.13   \n",
       "4               0.80             1.0328                       0.46   \n",
       "\n",
       "   VALENTIA_precipitation  VALENTIA_snow_depth  VALENTIA_sunshine  \\\n",
       "0                    0.34                    0                4.7   \n",
       "1                    0.84                    0                0.7   \n",
       "2                    0.08                    0                0.1   \n",
       "3                    0.98                    0                0.0   \n",
       "4                    0.00                    0                5.7   \n",
       "\n",
       "   VALENTIA_temp_mean  VALENTIA_temp_min  VALENTIA_temp_max  \n",
       "0                 8.5                6.0               10.9  \n",
       "1                 8.9                5.6               12.1  \n",
       "2                10.5                8.1               12.9  \n",
       "3                 7.4                7.3               10.6  \n",
       "4                 5.7                3.0                8.4  \n",
       "\n",
       "[5 rows x 170 columns]"
      ]
     },
     "execution_count": 3,
     "metadata": {},
     "output_type": "execute_result"
    }
   ],
   "source": [
    "climate.head()"
   ]
  },
  {
   "cell_type": "markdown",
   "id": "e391f6ac",
   "metadata": {},
   "source": [
    "# Data prep"
   ]
  },
  {
   "cell_type": "code",
   "execution_count": 9,
   "id": "b23e4ed5",
   "metadata": {},
   "outputs": [],
   "source": [
    "climate = climate.drop(['DATE','MONTH'], axis=1)"
   ]
  },
  {
   "cell_type": "code",
   "execution_count": 10,
   "id": "448c423e",
   "metadata": {},
   "outputs": [
    {
     "data": {
      "text/html": [
       "<div>\n",
       "<style scoped>\n",
       "    .dataframe tbody tr th:only-of-type {\n",
       "        vertical-align: middle;\n",
       "    }\n",
       "\n",
       "    .dataframe tbody tr th {\n",
       "        vertical-align: top;\n",
       "    }\n",
       "\n",
       "    .dataframe thead th {\n",
       "        text-align: right;\n",
       "    }\n",
       "</style>\n",
       "<table border=\"1\" class=\"dataframe\">\n",
       "  <thead>\n",
       "    <tr style=\"text-align: right;\">\n",
       "      <th></th>\n",
       "      <th>DATE</th>\n",
       "      <th>BASEL_pleasant_weather</th>\n",
       "      <th>BELGRADE_pleasant_weather</th>\n",
       "      <th>BUDAPEST_pleasant_weather</th>\n",
       "      <th>DEBILT_pleasant_weather</th>\n",
       "      <th>DUSSELDORF_pleasant_weather</th>\n",
       "      <th>HEATHROW_pleasant_weather</th>\n",
       "      <th>KASSEL_pleasant_weather</th>\n",
       "      <th>LJUBLJANA_pleasant_weather</th>\n",
       "      <th>MAASTRICHT_pleasant_weather</th>\n",
       "      <th>MADRID_pleasant_weather</th>\n",
       "      <th>MUNCHENB_pleasant_weather</th>\n",
       "      <th>OSLO_pleasant_weather</th>\n",
       "      <th>SONNBLICK_pleasant_weather</th>\n",
       "      <th>STOCKHOLM_pleasant_weather</th>\n",
       "      <th>VALENTIA_pleasant_weather</th>\n",
       "    </tr>\n",
       "  </thead>\n",
       "  <tbody>\n",
       "    <tr>\n",
       "      <th>0</th>\n",
       "      <td>19600101</td>\n",
       "      <td>0</td>\n",
       "      <td>0</td>\n",
       "      <td>0</td>\n",
       "      <td>0</td>\n",
       "      <td>0</td>\n",
       "      <td>0</td>\n",
       "      <td>0</td>\n",
       "      <td>0</td>\n",
       "      <td>0</td>\n",
       "      <td>0</td>\n",
       "      <td>0</td>\n",
       "      <td>0</td>\n",
       "      <td>0</td>\n",
       "      <td>0</td>\n",
       "      <td>0</td>\n",
       "    </tr>\n",
       "    <tr>\n",
       "      <th>1</th>\n",
       "      <td>19600102</td>\n",
       "      <td>0</td>\n",
       "      <td>0</td>\n",
       "      <td>0</td>\n",
       "      <td>0</td>\n",
       "      <td>0</td>\n",
       "      <td>0</td>\n",
       "      <td>0</td>\n",
       "      <td>0</td>\n",
       "      <td>0</td>\n",
       "      <td>0</td>\n",
       "      <td>0</td>\n",
       "      <td>0</td>\n",
       "      <td>0</td>\n",
       "      <td>0</td>\n",
       "      <td>0</td>\n",
       "    </tr>\n",
       "    <tr>\n",
       "      <th>2</th>\n",
       "      <td>19600103</td>\n",
       "      <td>0</td>\n",
       "      <td>0</td>\n",
       "      <td>0</td>\n",
       "      <td>0</td>\n",
       "      <td>0</td>\n",
       "      <td>0</td>\n",
       "      <td>0</td>\n",
       "      <td>0</td>\n",
       "      <td>0</td>\n",
       "      <td>0</td>\n",
       "      <td>0</td>\n",
       "      <td>0</td>\n",
       "      <td>0</td>\n",
       "      <td>0</td>\n",
       "      <td>0</td>\n",
       "    </tr>\n",
       "    <tr>\n",
       "      <th>3</th>\n",
       "      <td>19600104</td>\n",
       "      <td>0</td>\n",
       "      <td>0</td>\n",
       "      <td>0</td>\n",
       "      <td>0</td>\n",
       "      <td>0</td>\n",
       "      <td>0</td>\n",
       "      <td>0</td>\n",
       "      <td>0</td>\n",
       "      <td>0</td>\n",
       "      <td>0</td>\n",
       "      <td>0</td>\n",
       "      <td>0</td>\n",
       "      <td>0</td>\n",
       "      <td>0</td>\n",
       "      <td>0</td>\n",
       "    </tr>\n",
       "    <tr>\n",
       "      <th>4</th>\n",
       "      <td>19600105</td>\n",
       "      <td>0</td>\n",
       "      <td>0</td>\n",
       "      <td>0</td>\n",
       "      <td>0</td>\n",
       "      <td>0</td>\n",
       "      <td>0</td>\n",
       "      <td>0</td>\n",
       "      <td>0</td>\n",
       "      <td>0</td>\n",
       "      <td>0</td>\n",
       "      <td>0</td>\n",
       "      <td>0</td>\n",
       "      <td>0</td>\n",
       "      <td>0</td>\n",
       "      <td>0</td>\n",
       "    </tr>\n",
       "  </tbody>\n",
       "</table>\n",
       "</div>"
      ],
      "text/plain": [
       "       DATE  BASEL_pleasant_weather  BELGRADE_pleasant_weather  \\\n",
       "0  19600101                       0                          0   \n",
       "1  19600102                       0                          0   \n",
       "2  19600103                       0                          0   \n",
       "3  19600104                       0                          0   \n",
       "4  19600105                       0                          0   \n",
       "\n",
       "   BUDAPEST_pleasant_weather  DEBILT_pleasant_weather  \\\n",
       "0                          0                        0   \n",
       "1                          0                        0   \n",
       "2                          0                        0   \n",
       "3                          0                        0   \n",
       "4                          0                        0   \n",
       "\n",
       "   DUSSELDORF_pleasant_weather  HEATHROW_pleasant_weather  \\\n",
       "0                            0                          0   \n",
       "1                            0                          0   \n",
       "2                            0                          0   \n",
       "3                            0                          0   \n",
       "4                            0                          0   \n",
       "\n",
       "   KASSEL_pleasant_weather  LJUBLJANA_pleasant_weather  \\\n",
       "0                        0                           0   \n",
       "1                        0                           0   \n",
       "2                        0                           0   \n",
       "3                        0                           0   \n",
       "4                        0                           0   \n",
       "\n",
       "   MAASTRICHT_pleasant_weather  MADRID_pleasant_weather  \\\n",
       "0                            0                        0   \n",
       "1                            0                        0   \n",
       "2                            0                        0   \n",
       "3                            0                        0   \n",
       "4                            0                        0   \n",
       "\n",
       "   MUNCHENB_pleasant_weather  OSLO_pleasant_weather  \\\n",
       "0                          0                      0   \n",
       "1                          0                      0   \n",
       "2                          0                      0   \n",
       "3                          0                      0   \n",
       "4                          0                      0   \n",
       "\n",
       "   SONNBLICK_pleasant_weather  STOCKHOLM_pleasant_weather  \\\n",
       "0                           0                           0   \n",
       "1                           0                           0   \n",
       "2                           0                           0   \n",
       "3                           0                           0   \n",
       "4                           0                           0   \n",
       "\n",
       "   VALENTIA_pleasant_weather  \n",
       "0                          0  \n",
       "1                          0  \n",
       "2                          0  \n",
       "3                          0  \n",
       "4                          0  "
      ]
     },
     "execution_count": 10,
     "metadata": {},
     "output_type": "execute_result"
    }
   ],
   "source": [
    "climate_answers.head()"
   ]
  },
  {
   "cell_type": "code",
   "execution_count": 11,
   "id": "bae94ddc",
   "metadata": {},
   "outputs": [],
   "source": [
    "climate_answers = climate_answers.drop(['DATE'], axis=1)"
   ]
  },
  {
   "cell_type": "code",
   "execution_count": 12,
   "id": "59c41bf5",
   "metadata": {},
   "outputs": [
    {
     "data": {
      "text/html": [
       "<div>\n",
       "<style scoped>\n",
       "    .dataframe tbody tr th:only-of-type {\n",
       "        vertical-align: middle;\n",
       "    }\n",
       "\n",
       "    .dataframe tbody tr th {\n",
       "        vertical-align: top;\n",
       "    }\n",
       "\n",
       "    .dataframe thead th {\n",
       "        text-align: right;\n",
       "    }\n",
       "</style>\n",
       "<table border=\"1\" class=\"dataframe\">\n",
       "  <thead>\n",
       "    <tr style=\"text-align: right;\">\n",
       "      <th></th>\n",
       "      <th>BASEL_cloud_cover</th>\n",
       "      <th>BASEL_wind_speed</th>\n",
       "      <th>BASEL_humidity</th>\n",
       "      <th>BASEL_pressure</th>\n",
       "      <th>BASEL_global_radiation</th>\n",
       "      <th>BASEL_precipitation</th>\n",
       "      <th>BASEL_snow_depth</th>\n",
       "      <th>BASEL_sunshine</th>\n",
       "      <th>BASEL_temp_mean</th>\n",
       "      <th>BASEL_temp_min</th>\n",
       "      <th>...</th>\n",
       "      <th>VALENTIA_cloud_cover</th>\n",
       "      <th>VALENTIA_humidity</th>\n",
       "      <th>VALENTIA_pressure</th>\n",
       "      <th>VALENTIA_global_radiation</th>\n",
       "      <th>VALENTIA_precipitation</th>\n",
       "      <th>VALENTIA_snow_depth</th>\n",
       "      <th>VALENTIA_sunshine</th>\n",
       "      <th>VALENTIA_temp_mean</th>\n",
       "      <th>VALENTIA_temp_min</th>\n",
       "      <th>VALENTIA_temp_max</th>\n",
       "    </tr>\n",
       "  </thead>\n",
       "  <tbody>\n",
       "    <tr>\n",
       "      <th>0</th>\n",
       "      <td>7</td>\n",
       "      <td>2.1</td>\n",
       "      <td>0.85</td>\n",
       "      <td>1.018</td>\n",
       "      <td>0.32</td>\n",
       "      <td>0.09</td>\n",
       "      <td>0</td>\n",
       "      <td>0.7</td>\n",
       "      <td>6.5</td>\n",
       "      <td>0.8</td>\n",
       "      <td>...</td>\n",
       "      <td>5</td>\n",
       "      <td>0.88</td>\n",
       "      <td>1.0003</td>\n",
       "      <td>0.45</td>\n",
       "      <td>0.34</td>\n",
       "      <td>0</td>\n",
       "      <td>4.7</td>\n",
       "      <td>8.5</td>\n",
       "      <td>6.0</td>\n",
       "      <td>10.9</td>\n",
       "    </tr>\n",
       "    <tr>\n",
       "      <th>1</th>\n",
       "      <td>6</td>\n",
       "      <td>2.1</td>\n",
       "      <td>0.84</td>\n",
       "      <td>1.018</td>\n",
       "      <td>0.36</td>\n",
       "      <td>1.05</td>\n",
       "      <td>0</td>\n",
       "      <td>1.1</td>\n",
       "      <td>6.1</td>\n",
       "      <td>3.3</td>\n",
       "      <td>...</td>\n",
       "      <td>7</td>\n",
       "      <td>0.91</td>\n",
       "      <td>1.0007</td>\n",
       "      <td>0.25</td>\n",
       "      <td>0.84</td>\n",
       "      <td>0</td>\n",
       "      <td>0.7</td>\n",
       "      <td>8.9</td>\n",
       "      <td>5.6</td>\n",
       "      <td>12.1</td>\n",
       "    </tr>\n",
       "    <tr>\n",
       "      <th>2</th>\n",
       "      <td>8</td>\n",
       "      <td>2.1</td>\n",
       "      <td>0.90</td>\n",
       "      <td>1.018</td>\n",
       "      <td>0.18</td>\n",
       "      <td>0.30</td>\n",
       "      <td>0</td>\n",
       "      <td>0.0</td>\n",
       "      <td>8.5</td>\n",
       "      <td>5.1</td>\n",
       "      <td>...</td>\n",
       "      <td>7</td>\n",
       "      <td>0.91</td>\n",
       "      <td>1.0096</td>\n",
       "      <td>0.17</td>\n",
       "      <td>0.08</td>\n",
       "      <td>0</td>\n",
       "      <td>0.1</td>\n",
       "      <td>10.5</td>\n",
       "      <td>8.1</td>\n",
       "      <td>12.9</td>\n",
       "    </tr>\n",
       "    <tr>\n",
       "      <th>3</th>\n",
       "      <td>3</td>\n",
       "      <td>2.1</td>\n",
       "      <td>0.92</td>\n",
       "      <td>1.018</td>\n",
       "      <td>0.58</td>\n",
       "      <td>0.00</td>\n",
       "      <td>0</td>\n",
       "      <td>4.1</td>\n",
       "      <td>6.3</td>\n",
       "      <td>3.8</td>\n",
       "      <td>...</td>\n",
       "      <td>7</td>\n",
       "      <td>0.86</td>\n",
       "      <td>1.0184</td>\n",
       "      <td>0.13</td>\n",
       "      <td>0.98</td>\n",
       "      <td>0</td>\n",
       "      <td>0.0</td>\n",
       "      <td>7.4</td>\n",
       "      <td>7.3</td>\n",
       "      <td>10.6</td>\n",
       "    </tr>\n",
       "    <tr>\n",
       "      <th>4</th>\n",
       "      <td>6</td>\n",
       "      <td>2.1</td>\n",
       "      <td>0.95</td>\n",
       "      <td>1.018</td>\n",
       "      <td>0.65</td>\n",
       "      <td>0.14</td>\n",
       "      <td>0</td>\n",
       "      <td>5.4</td>\n",
       "      <td>3.0</td>\n",
       "      <td>-0.7</td>\n",
       "      <td>...</td>\n",
       "      <td>3</td>\n",
       "      <td>0.80</td>\n",
       "      <td>1.0328</td>\n",
       "      <td>0.46</td>\n",
       "      <td>0.00</td>\n",
       "      <td>0</td>\n",
       "      <td>5.7</td>\n",
       "      <td>5.7</td>\n",
       "      <td>3.0</td>\n",
       "      <td>8.4</td>\n",
       "    </tr>\n",
       "  </tbody>\n",
       "</table>\n",
       "<p>5 rows × 168 columns</p>\n",
       "</div>"
      ],
      "text/plain": [
       "   BASEL_cloud_cover  BASEL_wind_speed  BASEL_humidity  BASEL_pressure  \\\n",
       "0                  7               2.1            0.85           1.018   \n",
       "1                  6               2.1            0.84           1.018   \n",
       "2                  8               2.1            0.90           1.018   \n",
       "3                  3               2.1            0.92           1.018   \n",
       "4                  6               2.1            0.95           1.018   \n",
       "\n",
       "   BASEL_global_radiation  BASEL_precipitation  BASEL_snow_depth  \\\n",
       "0                    0.32                 0.09                 0   \n",
       "1                    0.36                 1.05                 0   \n",
       "2                    0.18                 0.30                 0   \n",
       "3                    0.58                 0.00                 0   \n",
       "4                    0.65                 0.14                 0   \n",
       "\n",
       "   BASEL_sunshine  BASEL_temp_mean  BASEL_temp_min  ...  VALENTIA_cloud_cover  \\\n",
       "0             0.7              6.5             0.8  ...                     5   \n",
       "1             1.1              6.1             3.3  ...                     7   \n",
       "2             0.0              8.5             5.1  ...                     7   \n",
       "3             4.1              6.3             3.8  ...                     7   \n",
       "4             5.4              3.0            -0.7  ...                     3   \n",
       "\n",
       "   VALENTIA_humidity  VALENTIA_pressure  VALENTIA_global_radiation  \\\n",
       "0               0.88             1.0003                       0.45   \n",
       "1               0.91             1.0007                       0.25   \n",
       "2               0.91             1.0096                       0.17   \n",
       "3               0.86             1.0184                       0.13   \n",
       "4               0.80             1.0328                       0.46   \n",
       "\n",
       "   VALENTIA_precipitation  VALENTIA_snow_depth  VALENTIA_sunshine  \\\n",
       "0                    0.34                    0                4.7   \n",
       "1                    0.84                    0                0.7   \n",
       "2                    0.08                    0                0.1   \n",
       "3                    0.98                    0                0.0   \n",
       "4                    0.00                    0                5.7   \n",
       "\n",
       "   VALENTIA_temp_mean  VALENTIA_temp_min  VALENTIA_temp_max  \n",
       "0                 8.5                6.0               10.9  \n",
       "1                 8.9                5.6               12.1  \n",
       "2                10.5                8.1               12.9  \n",
       "3                 7.4                7.3               10.6  \n",
       "4                 5.7                3.0                8.4  \n",
       "\n",
       "[5 rows x 168 columns]"
      ]
     },
     "execution_count": 12,
     "metadata": {},
     "output_type": "execute_result"
    }
   ],
   "source": [
    "climate.head()"
   ]
  },
  {
   "cell_type": "code",
   "execution_count": 13,
   "id": "bee5dc5e",
   "metadata": {},
   "outputs": [
    {
     "data": {
      "text/html": [
       "<div>\n",
       "<style scoped>\n",
       "    .dataframe tbody tr th:only-of-type {\n",
       "        vertical-align: middle;\n",
       "    }\n",
       "\n",
       "    .dataframe tbody tr th {\n",
       "        vertical-align: top;\n",
       "    }\n",
       "\n",
       "    .dataframe thead th {\n",
       "        text-align: right;\n",
       "    }\n",
       "</style>\n",
       "<table border=\"1\" class=\"dataframe\">\n",
       "  <thead>\n",
       "    <tr style=\"text-align: right;\">\n",
       "      <th></th>\n",
       "      <th>BASEL_pleasant_weather</th>\n",
       "      <th>BELGRADE_pleasant_weather</th>\n",
       "      <th>BUDAPEST_pleasant_weather</th>\n",
       "      <th>DEBILT_pleasant_weather</th>\n",
       "      <th>DUSSELDORF_pleasant_weather</th>\n",
       "      <th>HEATHROW_pleasant_weather</th>\n",
       "      <th>KASSEL_pleasant_weather</th>\n",
       "      <th>LJUBLJANA_pleasant_weather</th>\n",
       "      <th>MAASTRICHT_pleasant_weather</th>\n",
       "      <th>MADRID_pleasant_weather</th>\n",
       "      <th>MUNCHENB_pleasant_weather</th>\n",
       "      <th>OSLO_pleasant_weather</th>\n",
       "      <th>SONNBLICK_pleasant_weather</th>\n",
       "      <th>STOCKHOLM_pleasant_weather</th>\n",
       "      <th>VALENTIA_pleasant_weather</th>\n",
       "    </tr>\n",
       "  </thead>\n",
       "  <tbody>\n",
       "    <tr>\n",
       "      <th>0</th>\n",
       "      <td>0</td>\n",
       "      <td>0</td>\n",
       "      <td>0</td>\n",
       "      <td>0</td>\n",
       "      <td>0</td>\n",
       "      <td>0</td>\n",
       "      <td>0</td>\n",
       "      <td>0</td>\n",
       "      <td>0</td>\n",
       "      <td>0</td>\n",
       "      <td>0</td>\n",
       "      <td>0</td>\n",
       "      <td>0</td>\n",
       "      <td>0</td>\n",
       "      <td>0</td>\n",
       "    </tr>\n",
       "    <tr>\n",
       "      <th>1</th>\n",
       "      <td>0</td>\n",
       "      <td>0</td>\n",
       "      <td>0</td>\n",
       "      <td>0</td>\n",
       "      <td>0</td>\n",
       "      <td>0</td>\n",
       "      <td>0</td>\n",
       "      <td>0</td>\n",
       "      <td>0</td>\n",
       "      <td>0</td>\n",
       "      <td>0</td>\n",
       "      <td>0</td>\n",
       "      <td>0</td>\n",
       "      <td>0</td>\n",
       "      <td>0</td>\n",
       "    </tr>\n",
       "    <tr>\n",
       "      <th>2</th>\n",
       "      <td>0</td>\n",
       "      <td>0</td>\n",
       "      <td>0</td>\n",
       "      <td>0</td>\n",
       "      <td>0</td>\n",
       "      <td>0</td>\n",
       "      <td>0</td>\n",
       "      <td>0</td>\n",
       "      <td>0</td>\n",
       "      <td>0</td>\n",
       "      <td>0</td>\n",
       "      <td>0</td>\n",
       "      <td>0</td>\n",
       "      <td>0</td>\n",
       "      <td>0</td>\n",
       "    </tr>\n",
       "    <tr>\n",
       "      <th>3</th>\n",
       "      <td>0</td>\n",
       "      <td>0</td>\n",
       "      <td>0</td>\n",
       "      <td>0</td>\n",
       "      <td>0</td>\n",
       "      <td>0</td>\n",
       "      <td>0</td>\n",
       "      <td>0</td>\n",
       "      <td>0</td>\n",
       "      <td>0</td>\n",
       "      <td>0</td>\n",
       "      <td>0</td>\n",
       "      <td>0</td>\n",
       "      <td>0</td>\n",
       "      <td>0</td>\n",
       "    </tr>\n",
       "    <tr>\n",
       "      <th>4</th>\n",
       "      <td>0</td>\n",
       "      <td>0</td>\n",
       "      <td>0</td>\n",
       "      <td>0</td>\n",
       "      <td>0</td>\n",
       "      <td>0</td>\n",
       "      <td>0</td>\n",
       "      <td>0</td>\n",
       "      <td>0</td>\n",
       "      <td>0</td>\n",
       "      <td>0</td>\n",
       "      <td>0</td>\n",
       "      <td>0</td>\n",
       "      <td>0</td>\n",
       "      <td>0</td>\n",
       "    </tr>\n",
       "  </tbody>\n",
       "</table>\n",
       "</div>"
      ],
      "text/plain": [
       "   BASEL_pleasant_weather  BELGRADE_pleasant_weather  \\\n",
       "0                       0                          0   \n",
       "1                       0                          0   \n",
       "2                       0                          0   \n",
       "3                       0                          0   \n",
       "4                       0                          0   \n",
       "\n",
       "   BUDAPEST_pleasant_weather  DEBILT_pleasant_weather  \\\n",
       "0                          0                        0   \n",
       "1                          0                        0   \n",
       "2                          0                        0   \n",
       "3                          0                        0   \n",
       "4                          0                        0   \n",
       "\n",
       "   DUSSELDORF_pleasant_weather  HEATHROW_pleasant_weather  \\\n",
       "0                            0                          0   \n",
       "1                            0                          0   \n",
       "2                            0                          0   \n",
       "3                            0                          0   \n",
       "4                            0                          0   \n",
       "\n",
       "   KASSEL_pleasant_weather  LJUBLJANA_pleasant_weather  \\\n",
       "0                        0                           0   \n",
       "1                        0                           0   \n",
       "2                        0                           0   \n",
       "3                        0                           0   \n",
       "4                        0                           0   \n",
       "\n",
       "   MAASTRICHT_pleasant_weather  MADRID_pleasant_weather  \\\n",
       "0                            0                        0   \n",
       "1                            0                        0   \n",
       "2                            0                        0   \n",
       "3                            0                        0   \n",
       "4                            0                        0   \n",
       "\n",
       "   MUNCHENB_pleasant_weather  OSLO_pleasant_weather  \\\n",
       "0                          0                      0   \n",
       "1                          0                      0   \n",
       "2                          0                      0   \n",
       "3                          0                      0   \n",
       "4                          0                      0   \n",
       "\n",
       "   SONNBLICK_pleasant_weather  STOCKHOLM_pleasant_weather  \\\n",
       "0                           0                           0   \n",
       "1                           0                           0   \n",
       "2                           0                           0   \n",
       "3                           0                           0   \n",
       "4                           0                           0   \n",
       "\n",
       "   VALENTIA_pleasant_weather  \n",
       "0                          0  \n",
       "1                          0  \n",
       "2                          0  \n",
       "3                          0  \n",
       "4                          0  "
      ]
     },
     "execution_count": 13,
     "metadata": {},
     "output_type": "execute_result"
    }
   ],
   "source": [
    "climate_answers.head()"
   ]
  },
  {
   "cell_type": "code",
   "execution_count": 15,
   "id": "53c0b7de",
   "metadata": {},
   "outputs": [],
   "source": [
    "# using built in data frame tools to remove the three stations without pleasant data associated \n",
    "df = climate.drop(climate.filter(regex='^(GDANSK|ROMA|TOURS)').columns, axis=1)"
   ]
  },
  {
   "cell_type": "code",
   "execution_count": 17,
   "id": "a1ad9b9e",
   "metadata": {},
   "outputs": [
    {
     "name": "stdout",
     "output_type": "stream",
     "text": [
      "Counter({'radiation': 15, 'precipitation': 15, 'sunshine': 15, 'mean': 15, 'min': 15, 'max': 15, 'cover': 14, 'humidity': 14, 'pressure': 14, 'speed': 9, 'depth': 6})\n"
     ]
    }
   ],
   "source": [
    "# checking for the least recorded measurement type\n",
    "from collections import Counter\n",
    "measurements = [col.split('_')[-1] for col in df.columns]\n",
    "measurement_counts = Counter(measurements)\n",
    "print(measurement_counts)"
   ]
  },
  {
   "cell_type": "code",
   "execution_count": 18,
   "id": "63cbf71f",
   "metadata": {},
   "outputs": [],
   "source": [
    "# wind speed and snow depth are the two most missed measurements so dropping them\n",
    "df2 = df.drop(df.filter(regex='(snow_depth|wind_speed)$').columns, axis=1)"
   ]
  },
  {
   "cell_type": "code",
   "execution_count": 21,
   "id": "d21bb54d",
   "metadata": {},
   "outputs": [
    {
     "name": "stdout",
     "output_type": "stream",
     "text": [
      "Counter({'radiation': 15, 'precipitation': 15, 'sunshine': 15, 'mean': 15, 'min': 15, 'max': 15, 'cover': 14, 'humidity': 14, 'pressure': 14})\n"
     ]
    }
   ],
   "source": [
    "measurements = [col.split('_')[-1] for col in df2.columns]\n",
    "measurement_counts = Counter(measurements)\n",
    "print(measurement_counts)"
   ]
  },
  {
   "cell_type": "code",
   "execution_count": 22,
   "id": "c765856d",
   "metadata": {},
   "outputs": [
    {
     "data": {
      "text/plain": [
       "(22950, 132)"
      ]
     },
     "execution_count": 22,
     "metadata": {},
     "output_type": "execute_result"
    }
   ],
   "source": [
    "df2.shape"
   ]
  },
  {
   "cell_type": "code",
   "execution_count": 27,
   "id": "a5acbb7a",
   "metadata": {},
   "outputs": [
    {
     "data": {
      "text/html": [
       "<div>\n",
       "<style scoped>\n",
       "    .dataframe tbody tr th:only-of-type {\n",
       "        vertical-align: middle;\n",
       "    }\n",
       "\n",
       "    .dataframe tbody tr th {\n",
       "        vertical-align: top;\n",
       "    }\n",
       "\n",
       "    .dataframe thead th {\n",
       "        text-align: right;\n",
       "    }\n",
       "</style>\n",
       "<table border=\"1\" class=\"dataframe\">\n",
       "  <thead>\n",
       "    <tr style=\"text-align: right;\">\n",
       "      <th></th>\n",
       "      <th>KASSEL_humidity</th>\n",
       "      <th>KASSEL_pressure</th>\n",
       "      <th>KASSEL_global_radiation</th>\n",
       "      <th>KASSEL_precipitation</th>\n",
       "      <th>KASSEL_sunshine</th>\n",
       "      <th>KASSEL_temp_mean</th>\n",
       "      <th>KASSEL_temp_min</th>\n",
       "      <th>KASSEL_temp_max</th>\n",
       "      <th>MUNCHENB_cloud_cover</th>\n",
       "      <th>MUNCHENB_humidity</th>\n",
       "      <th>MUNCHENB_global_radiation</th>\n",
       "      <th>MUNCHENB_precipitation</th>\n",
       "      <th>MUNCHENB_sunshine</th>\n",
       "      <th>MUNCHENB_temp_mean</th>\n",
       "      <th>MUNCHENB_temp_min</th>\n",
       "      <th>MUNCHENB_temp_max</th>\n",
       "      <th>STOCKHOLM_cloud_cover</th>\n",
       "      <th>STOCKHOLM_pressure</th>\n",
       "      <th>STOCKHOLM_global_radiation</th>\n",
       "      <th>STOCKHOLM_precipitation</th>\n",
       "      <th>STOCKHOLM_sunshine</th>\n",
       "      <th>STOCKHOLM_temp_mean</th>\n",
       "      <th>STOCKHOLM_temp_min</th>\n",
       "      <th>STOCKHOLM_temp_max</th>\n",
       "    </tr>\n",
       "  </thead>\n",
       "  <tbody>\n",
       "    <tr>\n",
       "      <th>0</th>\n",
       "      <td>0.82</td>\n",
       "      <td>1.0094</td>\n",
       "      <td>0.28</td>\n",
       "      <td>0.48</td>\n",
       "      <td>1.6</td>\n",
       "      <td>7.9</td>\n",
       "      <td>3.9</td>\n",
       "      <td>9.4</td>\n",
       "      <td>5</td>\n",
       "      <td>0.67</td>\n",
       "      <td>0.20</td>\n",
       "      <td>0.10</td>\n",
       "      <td>0.0</td>\n",
       "      <td>6.9</td>\n",
       "      <td>1.1</td>\n",
       "      <td>10.4</td>\n",
       "      <td>5</td>\n",
       "      <td>1.0114</td>\n",
       "      <td>0.05</td>\n",
       "      <td>0.32</td>\n",
       "      <td>0.0</td>\n",
       "      <td>4.2</td>\n",
       "      <td>2.2</td>\n",
       "      <td>4.9</td>\n",
       "    </tr>\n",
       "    <tr>\n",
       "      <th>1</th>\n",
       "      <td>0.86</td>\n",
       "      <td>1.0086</td>\n",
       "      <td>0.12</td>\n",
       "      <td>0.27</td>\n",
       "      <td>0.0</td>\n",
       "      <td>7.7</td>\n",
       "      <td>6.8</td>\n",
       "      <td>9.1</td>\n",
       "      <td>6</td>\n",
       "      <td>0.72</td>\n",
       "      <td>0.61</td>\n",
       "      <td>0.30</td>\n",
       "      <td>5.1</td>\n",
       "      <td>6.2</td>\n",
       "      <td>4.2</td>\n",
       "      <td>10.2</td>\n",
       "      <td>5</td>\n",
       "      <td>1.0114</td>\n",
       "      <td>0.05</td>\n",
       "      <td>0.06</td>\n",
       "      <td>0.0</td>\n",
       "      <td>4.0</td>\n",
       "      <td>3.0</td>\n",
       "      <td>5.0</td>\n",
       "    </tr>\n",
       "    <tr>\n",
       "      <th>2</th>\n",
       "      <td>0.91</td>\n",
       "      <td>1.0129</td>\n",
       "      <td>0.12</td>\n",
       "      <td>0.60</td>\n",
       "      <td>0.0</td>\n",
       "      <td>6.5</td>\n",
       "      <td>6.0</td>\n",
       "      <td>8.0</td>\n",
       "      <td>6</td>\n",
       "      <td>0.91</td>\n",
       "      <td>0.20</td>\n",
       "      <td>0.30</td>\n",
       "      <td>0.0</td>\n",
       "      <td>5.8</td>\n",
       "      <td>4.0</td>\n",
       "      <td>8.0</td>\n",
       "      <td>5</td>\n",
       "      <td>1.0114</td>\n",
       "      <td>0.05</td>\n",
       "      <td>0.02</td>\n",
       "      <td>0.0</td>\n",
       "      <td>2.4</td>\n",
       "      <td>1.3</td>\n",
       "      <td>4.1</td>\n",
       "    </tr>\n",
       "    <tr>\n",
       "      <th>3</th>\n",
       "      <td>0.87</td>\n",
       "      <td>1.0290</td>\n",
       "      <td>0.12</td>\n",
       "      <td>0.00</td>\n",
       "      <td>0.0</td>\n",
       "      <td>5.8</td>\n",
       "      <td>5.2</td>\n",
       "      <td>6.5</td>\n",
       "      <td>6</td>\n",
       "      <td>0.90</td>\n",
       "      <td>0.20</td>\n",
       "      <td>0.01</td>\n",
       "      <td>0.0</td>\n",
       "      <td>3.9</td>\n",
       "      <td>3.2</td>\n",
       "      <td>5.4</td>\n",
       "      <td>5</td>\n",
       "      <td>1.0114</td>\n",
       "      <td>0.05</td>\n",
       "      <td>0.00</td>\n",
       "      <td>0.0</td>\n",
       "      <td>1.2</td>\n",
       "      <td>0.4</td>\n",
       "      <td>2.3</td>\n",
       "    </tr>\n",
       "    <tr>\n",
       "      <th>4</th>\n",
       "      <td>0.86</td>\n",
       "      <td>1.0262</td>\n",
       "      <td>0.13</td>\n",
       "      <td>0.71</td>\n",
       "      <td>0.0</td>\n",
       "      <td>5.4</td>\n",
       "      <td>3.7</td>\n",
       "      <td>6.0</td>\n",
       "      <td>5</td>\n",
       "      <td>0.85</td>\n",
       "      <td>0.65</td>\n",
       "      <td>0.96</td>\n",
       "      <td>5.6</td>\n",
       "      <td>1.8</td>\n",
       "      <td>-3.0</td>\n",
       "      <td>6.0</td>\n",
       "      <td>5</td>\n",
       "      <td>1.0114</td>\n",
       "      <td>0.05</td>\n",
       "      <td>1.32</td>\n",
       "      <td>0.0</td>\n",
       "      <td>3.3</td>\n",
       "      <td>0.8</td>\n",
       "      <td>4.3</td>\n",
       "    </tr>\n",
       "  </tbody>\n",
       "</table>\n",
       "</div>"
      ],
      "text/plain": [
       "   KASSEL_humidity  KASSEL_pressure  KASSEL_global_radiation  \\\n",
       "0             0.82           1.0094                     0.28   \n",
       "1             0.86           1.0086                     0.12   \n",
       "2             0.91           1.0129                     0.12   \n",
       "3             0.87           1.0290                     0.12   \n",
       "4             0.86           1.0262                     0.13   \n",
       "\n",
       "   KASSEL_precipitation  KASSEL_sunshine  KASSEL_temp_mean  KASSEL_temp_min  \\\n",
       "0                  0.48              1.6               7.9              3.9   \n",
       "1                  0.27              0.0               7.7              6.8   \n",
       "2                  0.60              0.0               6.5              6.0   \n",
       "3                  0.00              0.0               5.8              5.2   \n",
       "4                  0.71              0.0               5.4              3.7   \n",
       "\n",
       "   KASSEL_temp_max  MUNCHENB_cloud_cover  MUNCHENB_humidity  \\\n",
       "0              9.4                     5               0.67   \n",
       "1              9.1                     6               0.72   \n",
       "2              8.0                     6               0.91   \n",
       "3              6.5                     6               0.90   \n",
       "4              6.0                     5               0.85   \n",
       "\n",
       "   MUNCHENB_global_radiation  MUNCHENB_precipitation  MUNCHENB_sunshine  \\\n",
       "0                       0.20                    0.10                0.0   \n",
       "1                       0.61                    0.30                5.1   \n",
       "2                       0.20                    0.30                0.0   \n",
       "3                       0.20                    0.01                0.0   \n",
       "4                       0.65                    0.96                5.6   \n",
       "\n",
       "   MUNCHENB_temp_mean  MUNCHENB_temp_min  MUNCHENB_temp_max  \\\n",
       "0                 6.9                1.1               10.4   \n",
       "1                 6.2                4.2               10.2   \n",
       "2                 5.8                4.0                8.0   \n",
       "3                 3.9                3.2                5.4   \n",
       "4                 1.8               -3.0                6.0   \n",
       "\n",
       "   STOCKHOLM_cloud_cover  STOCKHOLM_pressure  STOCKHOLM_global_radiation  \\\n",
       "0                      5              1.0114                        0.05   \n",
       "1                      5              1.0114                        0.05   \n",
       "2                      5              1.0114                        0.05   \n",
       "3                      5              1.0114                        0.05   \n",
       "4                      5              1.0114                        0.05   \n",
       "\n",
       "   STOCKHOLM_precipitation  STOCKHOLM_sunshine  STOCKHOLM_temp_mean  \\\n",
       "0                     0.32                 0.0                  4.2   \n",
       "1                     0.06                 0.0                  4.0   \n",
       "2                     0.02                 0.0                  2.4   \n",
       "3                     0.00                 0.0                  1.2   \n",
       "4                     1.32                 0.0                  3.3   \n",
       "\n",
       "   STOCKHOLM_temp_min  STOCKHOLM_temp_max  \n",
       "0                 2.2                 4.9  \n",
       "1                 3.0                 5.0  \n",
       "2                 1.3                 4.1  \n",
       "3                 0.4                 2.3  \n",
       "4                 0.8                 4.3  "
      ]
     },
     "execution_count": 27,
     "metadata": {},
     "output_type": "execute_result"
    }
   ],
   "source": [
    "# checking for what is missing in these three stations \n",
    "missing = df2.filter(regex='^(KASSEL|STOCKHOLM|MUNCHENB)')\n",
    "pd.set_option('display.max_columns', None)\n",
    "missing.head()"
   ]
  },
  {
   "cell_type": "code",
   "execution_count": 28,
   "id": "b0455709",
   "metadata": {},
   "outputs": [
    {
     "data": {
      "text/plain": [
       "53"
      ]
     },
     "execution_count": 28,
     "metadata": {},
     "output_type": "execute_result"
    }
   ],
   "source": [
    "# Kassel is missing cloud cover, MUNCHENB is missing pressure and Stockholm is missing humidity\n",
    "# finding the postion of the nearest column for copying data\n",
    "df2.columns.get_loc('HEATHROW_temp_max') # +1 for kassel cloud cover"
   ]
  },
  {
   "cell_type": "code",
   "execution_count": 30,
   "id": "bb955f7b",
   "metadata": {},
   "outputs": [
    {
     "data": {
      "text/plain": [
       "115"
      ]
     },
     "execution_count": 30,
     "metadata": {},
     "output_type": "execute_result"
    }
   ],
   "source": [
    "df2.columns.get_loc('STOCKHOLM_cloud_cover') # +2 for stockholm humidity"
   ]
  },
  {
   "cell_type": "code",
   "execution_count": 31,
   "id": "89cc31e5",
   "metadata": {},
   "outputs": [
    {
     "data": {
      "text/plain": [
       "90"
      ]
     },
     "execution_count": 31,
     "metadata": {},
     "output_type": "execute_result"
    }
   ],
   "source": [
    "df2.columns.get_loc('MUNCHENB_humidity') # +2 for muchenb pressure "
   ]
  },
  {
   "cell_type": "code",
   "execution_count": 37,
   "id": "f52d4c5f",
   "metadata": {},
   "outputs": [],
   "source": [
    "df3 = df2.copy()"
   ]
  },
  {
   "cell_type": "code",
   "execution_count": 38,
   "id": "eaf055ba",
   "metadata": {},
   "outputs": [],
   "source": [
    "# The data for these new columns is copied from other existing columns:\n",
    "# Kassel_cloud_cover with Dusseldorf_cloud_cover\n",
    "# Stockholm_humidity with Oslo_humidity\n",
    "# Munchenb_pressure with Basel_pressure\n",
    "\n",
    "df3.insert(54,'KASSEL_cloud_cover', df3['DUSSELDORF_cloud_cover'])\n",
    "df3.insert(117, 'STOCKHOLM_humidity', df3['OSLO_humidity'])\n",
    "df3.insert(92,'MUNCHENB_pressure',df3['BASEL_pressure'])"
   ]
  },
  {
   "cell_type": "code",
   "execution_count": 39,
   "id": "d2d53cd3",
   "metadata": {},
   "outputs": [
    {
     "data": {
      "text/plain": [
       "['BASEL_cloud_cover',\n",
       " 'BASEL_humidity',\n",
       " 'BASEL_pressure',\n",
       " 'BASEL_global_radiation',\n",
       " 'BASEL_precipitation',\n",
       " 'BASEL_sunshine',\n",
       " 'BASEL_temp_mean',\n",
       " 'BASEL_temp_min',\n",
       " 'BASEL_temp_max',\n",
       " 'BELGRADE_cloud_cover',\n",
       " 'BELGRADE_humidity',\n",
       " 'BELGRADE_pressure',\n",
       " 'BELGRADE_global_radiation',\n",
       " 'BELGRADE_precipitation',\n",
       " 'BELGRADE_sunshine',\n",
       " 'BELGRADE_temp_mean',\n",
       " 'BELGRADE_temp_min',\n",
       " 'BELGRADE_temp_max',\n",
       " 'BUDAPEST_cloud_cover',\n",
       " 'BUDAPEST_humidity',\n",
       " 'BUDAPEST_pressure',\n",
       " 'BUDAPEST_global_radiation',\n",
       " 'BUDAPEST_precipitation',\n",
       " 'BUDAPEST_sunshine',\n",
       " 'BUDAPEST_temp_mean',\n",
       " 'BUDAPEST_temp_min',\n",
       " 'BUDAPEST_temp_max',\n",
       " 'DEBILT_cloud_cover',\n",
       " 'DEBILT_humidity',\n",
       " 'DEBILT_pressure',\n",
       " 'DEBILT_global_radiation',\n",
       " 'DEBILT_precipitation',\n",
       " 'DEBILT_sunshine',\n",
       " 'DEBILT_temp_mean',\n",
       " 'DEBILT_temp_min',\n",
       " 'DEBILT_temp_max',\n",
       " 'DUSSELDORF_cloud_cover',\n",
       " 'DUSSELDORF_humidity',\n",
       " 'DUSSELDORF_pressure',\n",
       " 'DUSSELDORF_global_radiation',\n",
       " 'DUSSELDORF_precipitation',\n",
       " 'DUSSELDORF_sunshine',\n",
       " 'DUSSELDORF_temp_mean',\n",
       " 'DUSSELDORF_temp_min',\n",
       " 'DUSSELDORF_temp_max',\n",
       " 'HEATHROW_cloud_cover',\n",
       " 'HEATHROW_humidity',\n",
       " 'HEATHROW_pressure',\n",
       " 'HEATHROW_global_radiation',\n",
       " 'HEATHROW_precipitation',\n",
       " 'HEATHROW_sunshine',\n",
       " 'HEATHROW_temp_mean',\n",
       " 'HEATHROW_temp_min',\n",
       " 'HEATHROW_temp_max',\n",
       " 'KASSEL_cloud_cover',\n",
       " 'KASSEL_humidity',\n",
       " 'KASSEL_pressure',\n",
       " 'KASSEL_global_radiation',\n",
       " 'KASSEL_precipitation',\n",
       " 'KASSEL_sunshine',\n",
       " 'KASSEL_temp_mean',\n",
       " 'KASSEL_temp_min',\n",
       " 'KASSEL_temp_max',\n",
       " 'LJUBLJANA_cloud_cover',\n",
       " 'LJUBLJANA_humidity',\n",
       " 'LJUBLJANA_pressure',\n",
       " 'LJUBLJANA_global_radiation',\n",
       " 'LJUBLJANA_precipitation',\n",
       " 'LJUBLJANA_sunshine',\n",
       " 'LJUBLJANA_temp_mean',\n",
       " 'LJUBLJANA_temp_min',\n",
       " 'LJUBLJANA_temp_max',\n",
       " 'MAASTRICHT_cloud_cover',\n",
       " 'MAASTRICHT_humidity',\n",
       " 'MAASTRICHT_pressure',\n",
       " 'MAASTRICHT_global_radiation',\n",
       " 'MAASTRICHT_precipitation',\n",
       " 'MAASTRICHT_sunshine',\n",
       " 'MAASTRICHT_temp_mean',\n",
       " 'MAASTRICHT_temp_min',\n",
       " 'MAASTRICHT_temp_max',\n",
       " 'MADRID_cloud_cover',\n",
       " 'MADRID_humidity',\n",
       " 'MADRID_pressure',\n",
       " 'MADRID_global_radiation',\n",
       " 'MADRID_precipitation',\n",
       " 'MADRID_sunshine',\n",
       " 'MADRID_temp_mean',\n",
       " 'MADRID_temp_min',\n",
       " 'MADRID_temp_max',\n",
       " 'MUNCHENB_cloud_cover',\n",
       " 'MUNCHENB_humidity',\n",
       " 'MUNCHENB_pressure',\n",
       " 'MUNCHENB_global_radiation',\n",
       " 'MUNCHENB_precipitation',\n",
       " 'MUNCHENB_sunshine',\n",
       " 'MUNCHENB_temp_mean',\n",
       " 'MUNCHENB_temp_min',\n",
       " 'MUNCHENB_temp_max',\n",
       " 'OSLO_cloud_cover',\n",
       " 'OSLO_humidity',\n",
       " 'OSLO_pressure',\n",
       " 'OSLO_global_radiation',\n",
       " 'OSLO_precipitation',\n",
       " 'OSLO_sunshine',\n",
       " 'OSLO_temp_mean',\n",
       " 'OSLO_temp_min',\n",
       " 'OSLO_temp_max',\n",
       " 'SONNBLICK_cloud_cover',\n",
       " 'SONNBLICK_humidity',\n",
       " 'SONNBLICK_pressure',\n",
       " 'SONNBLICK_global_radiation',\n",
       " 'SONNBLICK_precipitation',\n",
       " 'SONNBLICK_sunshine',\n",
       " 'SONNBLICK_temp_mean',\n",
       " 'SONNBLICK_temp_min',\n",
       " 'SONNBLICK_temp_max',\n",
       " 'STOCKHOLM_cloud_cover',\n",
       " 'STOCKHOLM_humidity',\n",
       " 'STOCKHOLM_pressure',\n",
       " 'STOCKHOLM_global_radiation',\n",
       " 'STOCKHOLM_precipitation',\n",
       " 'STOCKHOLM_sunshine',\n",
       " 'STOCKHOLM_temp_mean',\n",
       " 'STOCKHOLM_temp_min',\n",
       " 'STOCKHOLM_temp_max',\n",
       " 'VALENTIA_cloud_cover',\n",
       " 'VALENTIA_humidity',\n",
       " 'VALENTIA_pressure',\n",
       " 'VALENTIA_global_radiation',\n",
       " 'VALENTIA_precipitation',\n",
       " 'VALENTIA_sunshine',\n",
       " 'VALENTIA_temp_mean',\n",
       " 'VALENTIA_temp_min',\n",
       " 'VALENTIA_temp_max']"
      ]
     },
     "execution_count": 39,
     "metadata": {},
     "output_type": "execute_result"
    }
   ],
   "source": [
    "df3.columns.tolist()"
   ]
  },
  {
   "cell_type": "code",
   "execution_count": 40,
   "id": "7d5da861",
   "metadata": {},
   "outputs": [
    {
     "name": "stdout",
     "output_type": "stream",
     "text": [
      "Counter({'cover': 15, 'humidity': 15, 'pressure': 15, 'radiation': 15, 'precipitation': 15, 'sunshine': 15, 'mean': 15, 'min': 15, 'max': 15})\n"
     ]
    }
   ],
   "source": [
    "measurements = [col.split('_')[-1] for col in df3.columns]\n",
    "measurement_counts = Counter(measurements)\n",
    "print(measurement_counts)"
   ]
  },
  {
   "cell_type": "code",
   "execution_count": 41,
   "id": "2140c694",
   "metadata": {},
   "outputs": [
    {
     "data": {
      "text/plain": [
       "(22950, 135)"
      ]
     },
     "execution_count": 41,
     "metadata": {},
     "output_type": "execute_result"
    }
   ],
   "source": [
    "df3.shape"
   ]
  },
  {
   "cell_type": "code",
   "execution_count": 42,
   "id": "b89919b4",
   "metadata": {},
   "outputs": [
    {
     "data": {
      "text/plain": [
       "(22950, 15)"
      ]
     },
     "execution_count": 42,
     "metadata": {},
     "output_type": "execute_result"
    }
   ],
   "source": [
    "climate_answers.shape"
   ]
  },
  {
   "cell_type": "markdown",
   "id": "b4238f64",
   "metadata": {},
   "source": [
    "# Exporting clean Data"
   ]
  },
  {
   "cell_type": "code",
   "execution_count": 44,
   "id": "6070d839",
   "metadata": {},
   "outputs": [],
   "source": [
    "df3.to_csv(os.path.join(path, 'Climate_Cleaned.csv'))\n",
    "climate_answers.to_csv(os.path.join(path, 'Pleasant_Day_Cleaned.csv'))"
   ]
  },
  {
   "cell_type": "markdown",
   "id": "ff8cf26f",
   "metadata": {},
   "source": [
    "# Keras modeling (CNN)"
   ]
  },
  {
   "cell_type": "code",
   "execution_count": 45,
   "id": "fbb7f8f4",
   "metadata": {},
   "outputs": [],
   "source": [
    "# creating the arrays for analysis\n",
    "X = df3.copy()\n",
    "y = climate_answers.copy()\n",
    "X = np.array(X)\n",
    "y = np.array(y)\n",
    "X = X.reshape(-1,15,9)"
   ]
  },
  {
   "cell_type": "code",
   "execution_count": 46,
   "id": "ba467f7e",
   "metadata": {},
   "outputs": [
    {
     "data": {
      "text/plain": [
       "(22950, 15, 9)"
      ]
     },
     "execution_count": 46,
     "metadata": {},
     "output_type": "execute_result"
    }
   ],
   "source": [
    "X.shape"
   ]
  },
  {
   "cell_type": "code",
   "execution_count": 47,
   "id": "9627afd5",
   "metadata": {},
   "outputs": [
    {
     "data": {
      "text/plain": [
       "(22950, 15)"
      ]
     },
     "execution_count": 47,
     "metadata": {},
     "output_type": "execute_result"
    }
   ],
   "source": [
    "y.shape"
   ]
  },
  {
   "cell_type": "code",
   "execution_count": 48,
   "id": "2320c8d2",
   "metadata": {},
   "outputs": [],
   "source": [
    "# Split data into train and test sets\n",
    "X_train, X_test, y_train, y_test = train_test_split(X,y,random_state = 42)"
   ]
  },
  {
   "cell_type": "code",
   "execution_count": 50,
   "id": "9676dbd6",
   "metadata": {},
   "outputs": [
    {
     "data": {
      "text/plain": [
       "(17212, 15, 9)"
      ]
     },
     "execution_count": 50,
     "metadata": {},
     "output_type": "execute_result"
    }
   ],
   "source": [
    "X_train.shape"
   ]
  },
  {
   "cell_type": "markdown",
   "id": "bb300eb2",
   "metadata": {},
   "source": [
    "# Begin Iterating on CNN hyperparameters"
   ]
  },
  {
   "cell_type": "code",
   "execution_count": 51,
   "id": "9695f37c",
   "metadata": {},
   "outputs": [],
   "source": [
    "epochs = 15\n",
    "batch_size = 8\n",
    "n_hidden = 16\n",
    "\n",
    "timesteps = len(X_train[0])\n",
    "input_dim = len(X_train[0][0])\n",
    "n_classes = len(y_train[0])\n",
    "\n",
    "model = Sequential()\n",
    "model.add(Conv1D(n_hidden, kernel_size=2, activation='relu', input_shape=(timesteps, input_dim)))\n",
    "model.add(Dense(16, activation='relu'))\n",
    "model.add(MaxPooling1D())\n",
    "model.add(Flatten())\n",
    "model.add(Dense(n_classes, activation='sigmoid')) # Options: sigmoid, tanh, softmax, relu"
   ]
  },
  {
   "cell_type": "code",
   "execution_count": 52,
   "id": "21281538",
   "metadata": {},
   "outputs": [
    {
     "data": {
      "text/html": [
       "<pre style=\"white-space:pre;overflow-x:auto;line-height:normal;font-family:Menlo,'DejaVu Sans Mono',consolas,'Courier New',monospace\"><span style=\"font-weight: bold\">Model: \"sequential_1\"</span>\n",
       "</pre>\n"
      ],
      "text/plain": [
       "\u001b[1mModel: \"sequential_1\"\u001b[0m\n"
      ]
     },
     "metadata": {},
     "output_type": "display_data"
    },
    {
     "data": {
      "text/html": [
       "<pre style=\"white-space:pre;overflow-x:auto;line-height:normal;font-family:Menlo,'DejaVu Sans Mono',consolas,'Courier New',monospace\">┏━━━━━━━━━━━━━━━━━━━━━━━━━━━━━━━━━┳━━━━━━━━━━━━━━━━━━━━━━━━┳━━━━━━━━━━━━━━━┓\n",
       "┃<span style=\"font-weight: bold\"> Layer (type)                    </span>┃<span style=\"font-weight: bold\"> Output Shape           </span>┃<span style=\"font-weight: bold\">       Param # </span>┃\n",
       "┡━━━━━━━━━━━━━━━━━━━━━━━━━━━━━━━━━╇━━━━━━━━━━━━━━━━━━━━━━━━╇━━━━━━━━━━━━━━━┩\n",
       "│ conv1d_1 (<span style=\"color: #0087ff; text-decoration-color: #0087ff\">Conv1D</span>)               │ (<span style=\"color: #00d7ff; text-decoration-color: #00d7ff\">None</span>, <span style=\"color: #00af00; text-decoration-color: #00af00\">14</span>, <span style=\"color: #00af00; text-decoration-color: #00af00\">16</span>)         │           <span style=\"color: #00af00; text-decoration-color: #00af00\">304</span> │\n",
       "├─────────────────────────────────┼────────────────────────┼───────────────┤\n",
       "│ dense_2 (<span style=\"color: #0087ff; text-decoration-color: #0087ff\">Dense</span>)                 │ (<span style=\"color: #00d7ff; text-decoration-color: #00d7ff\">None</span>, <span style=\"color: #00af00; text-decoration-color: #00af00\">14</span>, <span style=\"color: #00af00; text-decoration-color: #00af00\">16</span>)         │           <span style=\"color: #00af00; text-decoration-color: #00af00\">272</span> │\n",
       "├─────────────────────────────────┼────────────────────────┼───────────────┤\n",
       "│ max_pooling1d_1 (<span style=\"color: #0087ff; text-decoration-color: #0087ff\">MaxPooling1D</span>)  │ (<span style=\"color: #00d7ff; text-decoration-color: #00d7ff\">None</span>, <span style=\"color: #00af00; text-decoration-color: #00af00\">7</span>, <span style=\"color: #00af00; text-decoration-color: #00af00\">16</span>)          │             <span style=\"color: #00af00; text-decoration-color: #00af00\">0</span> │\n",
       "├─────────────────────────────────┼────────────────────────┼───────────────┤\n",
       "│ flatten_1 (<span style=\"color: #0087ff; text-decoration-color: #0087ff\">Flatten</span>)             │ (<span style=\"color: #00d7ff; text-decoration-color: #00d7ff\">None</span>, <span style=\"color: #00af00; text-decoration-color: #00af00\">112</span>)            │             <span style=\"color: #00af00; text-decoration-color: #00af00\">0</span> │\n",
       "├─────────────────────────────────┼────────────────────────┼───────────────┤\n",
       "│ dense_3 (<span style=\"color: #0087ff; text-decoration-color: #0087ff\">Dense</span>)                 │ (<span style=\"color: #00d7ff; text-decoration-color: #00d7ff\">None</span>, <span style=\"color: #00af00; text-decoration-color: #00af00\">15</span>)             │         <span style=\"color: #00af00; text-decoration-color: #00af00\">1,695</span> │\n",
       "└─────────────────────────────────┴────────────────────────┴───────────────┘\n",
       "</pre>\n"
      ],
      "text/plain": [
       "┏━━━━━━━━━━━━━━━━━━━━━━━━━━━━━━━━━┳━━━━━━━━━━━━━━━━━━━━━━━━┳━━━━━━━━━━━━━━━┓\n",
       "┃\u001b[1m \u001b[0m\u001b[1mLayer (type)                   \u001b[0m\u001b[1m \u001b[0m┃\u001b[1m \u001b[0m\u001b[1mOutput Shape          \u001b[0m\u001b[1m \u001b[0m┃\u001b[1m \u001b[0m\u001b[1m      Param #\u001b[0m\u001b[1m \u001b[0m┃\n",
       "┡━━━━━━━━━━━━━━━━━━━━━━━━━━━━━━━━━╇━━━━━━━━━━━━━━━━━━━━━━━━╇━━━━━━━━━━━━━━━┩\n",
       "│ conv1d_1 (\u001b[38;5;33mConv1D\u001b[0m)               │ (\u001b[38;5;45mNone\u001b[0m, \u001b[38;5;34m14\u001b[0m, \u001b[38;5;34m16\u001b[0m)         │           \u001b[38;5;34m304\u001b[0m │\n",
       "├─────────────────────────────────┼────────────────────────┼───────────────┤\n",
       "│ dense_2 (\u001b[38;5;33mDense\u001b[0m)                 │ (\u001b[38;5;45mNone\u001b[0m, \u001b[38;5;34m14\u001b[0m, \u001b[38;5;34m16\u001b[0m)         │           \u001b[38;5;34m272\u001b[0m │\n",
       "├─────────────────────────────────┼────────────────────────┼───────────────┤\n",
       "│ max_pooling1d_1 (\u001b[38;5;33mMaxPooling1D\u001b[0m)  │ (\u001b[38;5;45mNone\u001b[0m, \u001b[38;5;34m7\u001b[0m, \u001b[38;5;34m16\u001b[0m)          │             \u001b[38;5;34m0\u001b[0m │\n",
       "├─────────────────────────────────┼────────────────────────┼───────────────┤\n",
       "│ flatten_1 (\u001b[38;5;33mFlatten\u001b[0m)             │ (\u001b[38;5;45mNone\u001b[0m, \u001b[38;5;34m112\u001b[0m)            │             \u001b[38;5;34m0\u001b[0m │\n",
       "├─────────────────────────────────┼────────────────────────┼───────────────┤\n",
       "│ dense_3 (\u001b[38;5;33mDense\u001b[0m)                 │ (\u001b[38;5;45mNone\u001b[0m, \u001b[38;5;34m15\u001b[0m)             │         \u001b[38;5;34m1,695\u001b[0m │\n",
       "└─────────────────────────────────┴────────────────────────┴───────────────┘\n"
      ]
     },
     "metadata": {},
     "output_type": "display_data"
    },
    {
     "data": {
      "text/html": [
       "<pre style=\"white-space:pre;overflow-x:auto;line-height:normal;font-family:Menlo,'DejaVu Sans Mono',consolas,'Courier New',monospace\"><span style=\"font-weight: bold\"> Total params: </span><span style=\"color: #00af00; text-decoration-color: #00af00\">2,271</span> (8.87 KB)\n",
       "</pre>\n"
      ],
      "text/plain": [
       "\u001b[1m Total params: \u001b[0m\u001b[38;5;34m2,271\u001b[0m (8.87 KB)\n"
      ]
     },
     "metadata": {},
     "output_type": "display_data"
    },
    {
     "data": {
      "text/html": [
       "<pre style=\"white-space:pre;overflow-x:auto;line-height:normal;font-family:Menlo,'DejaVu Sans Mono',consolas,'Courier New',monospace\"><span style=\"font-weight: bold\"> Trainable params: </span><span style=\"color: #00af00; text-decoration-color: #00af00\">2,271</span> (8.87 KB)\n",
       "</pre>\n"
      ],
      "text/plain": [
       "\u001b[1m Trainable params: \u001b[0m\u001b[38;5;34m2,271\u001b[0m (8.87 KB)\n"
      ]
     },
     "metadata": {},
     "output_type": "display_data"
    },
    {
     "data": {
      "text/html": [
       "<pre style=\"white-space:pre;overflow-x:auto;line-height:normal;font-family:Menlo,'DejaVu Sans Mono',consolas,'Courier New',monospace\"><span style=\"font-weight: bold\"> Non-trainable params: </span><span style=\"color: #00af00; text-decoration-color: #00af00\">0</span> (0.00 B)\n",
       "</pre>\n"
      ],
      "text/plain": [
       "\u001b[1m Non-trainable params: \u001b[0m\u001b[38;5;34m0\u001b[0m (0.00 B)\n"
      ]
     },
     "metadata": {},
     "output_type": "display_data"
    }
   ],
   "source": [
    "model.summary()"
   ]
  },
  {
   "cell_type": "code",
   "execution_count": 54,
   "id": "a61f87dc",
   "metadata": {},
   "outputs": [
    {
     "name": "stdout",
     "output_type": "stream",
     "text": [
      "Epoch 1/15\n",
      "2152/2152 - 3s - 1ms/step - accuracy: 0.6434 - loss: 64602648.0000\n",
      "Epoch 2/15\n",
      "2152/2152 - 2s - 1ms/step - accuracy: 0.6434 - loss: 76553576.0000\n",
      "Epoch 3/15\n",
      "2152/2152 - 2s - 1ms/step - accuracy: 0.6434 - loss: 89172976.0000\n",
      "Epoch 4/15\n",
      "2152/2152 - 2s - 1ms/step - accuracy: 0.6434 - loss: 103759424.0000\n",
      "Epoch 5/15\n",
      "2152/2152 - 2s - 1ms/step - accuracy: 0.6434 - loss: 120539576.0000\n",
      "Epoch 6/15\n",
      "2152/2152 - 2s - 1ms/step - accuracy: 0.6434 - loss: 138121280.0000\n",
      "Epoch 7/15\n",
      "2152/2152 - 2s - 1ms/step - accuracy: 0.6434 - loss: 157039904.0000\n",
      "Epoch 8/15\n",
      "2152/2152 - 2s - 1ms/step - accuracy: 0.6434 - loss: 177739920.0000\n",
      "Epoch 9/15\n",
      "2152/2152 - 2s - 1ms/step - accuracy: 0.6434 - loss: 201718736.0000\n",
      "Epoch 10/15\n",
      "2152/2152 - 2s - 1ms/step - accuracy: 0.6434 - loss: 225336048.0000\n",
      "Epoch 11/15\n",
      "2152/2152 - 2s - 1ms/step - accuracy: 0.6434 - loss: 251555456.0000\n",
      "Epoch 12/15\n",
      "2152/2152 - 2s - 1ms/step - accuracy: 0.6434 - loss: 280882912.0000\n",
      "Epoch 13/15\n",
      "2152/2152 - 2s - 1ms/step - accuracy: 0.6434 - loss: 311514080.0000\n",
      "Epoch 14/15\n",
      "2152/2152 - 2s - 1ms/step - accuracy: 0.6434 - loss: 344384032.0000\n",
      "Epoch 15/15\n",
      "2152/2152 - 2s - 1ms/step - accuracy: 0.6434 - loss: 379256672.0000\n"
     ]
    },
    {
     "data": {
      "text/plain": [
       "<keras.src.callbacks.history.History at 0x21d282704a0>"
      ]
     },
     "execution_count": 54,
     "metadata": {},
     "output_type": "execute_result"
    }
   ],
   "source": [
    "model.compile(loss='categorical_crossentropy', optimizer='adam', metrics=['accuracy'])\n",
    "model.fit(X_train, y_train, batch_size=batch_size, epochs=epochs, verbose=2)"
   ]
  },
  {
   "cell_type": "code",
   "execution_count": 55,
   "id": "f363ff1c",
   "metadata": {},
   "outputs": [],
   "source": [
    "epochs = 30\n",
    "batch_size = 8\n",
    "n_hidden = 16\n",
    "\n",
    "timesteps = len(X_train[0])\n",
    "input_dim = len(X_train[0][0])\n",
    "n_classes = len(y_train[0])\n",
    "\n",
    "model = Sequential()\n",
    "model.add(Conv1D(n_hidden, kernel_size=2, activation='relu', input_shape=(timesteps, input_dim)))\n",
    "model.add(Dense(16, activation='relu'))\n",
    "model.add(MaxPooling1D())\n",
    "model.add(Flatten())\n",
    "model.add(Dense(n_classes, activation='sigmoid')) # Options: sigmoid, tanh, softmax, relu"
   ]
  },
  {
   "cell_type": "code",
   "execution_count": 56,
   "id": "2b40adab",
   "metadata": {},
   "outputs": [
    {
     "name": "stdout",
     "output_type": "stream",
     "text": [
      "Epoch 1/30\n",
      "2152/2152 - 3s - 1ms/step - accuracy: 0.6261 - loss: 14807.5410\n",
      "Epoch 2/30\n",
      "2152/2152 - 2s - 1ms/step - accuracy: 0.6434 - loss: 148475.5312\n",
      "Epoch 3/30\n",
      "2152/2152 - 2s - 1ms/step - accuracy: 0.6434 - loss: 453071.6250\n",
      "Epoch 4/30\n",
      "2152/2152 - 2s - 1ms/step - accuracy: 0.6434 - loss: 1015357.0625\n",
      "Epoch 5/30\n",
      "2152/2152 - 2s - 1ms/step - accuracy: 0.6434 - loss: 1864835.0000\n",
      "Epoch 6/30\n",
      "2152/2152 - 2s - 1ms/step - accuracy: 0.6434 - loss: 2979234.0000\n",
      "Epoch 7/30\n",
      "2152/2152 - 2s - 1ms/step - accuracy: 0.6434 - loss: 4513962.5000\n",
      "Epoch 8/30\n",
      "2152/2152 - 2s - 1ms/step - accuracy: 0.6434 - loss: 6336583.5000\n",
      "Epoch 9/30\n",
      "2152/2152 - 2s - 1ms/step - accuracy: 0.6434 - loss: 8718454.0000\n",
      "Epoch 10/30\n",
      "2152/2152 - 2s - 1ms/step - accuracy: 0.6434 - loss: 11550408.0000\n",
      "Epoch 11/30\n",
      "2152/2152 - 2s - 1ms/step - accuracy: 0.6434 - loss: 15046659.0000\n",
      "Epoch 12/30\n",
      "2152/2152 - 2s - 1ms/step - accuracy: 0.6434 - loss: 18989372.0000\n",
      "Epoch 13/30\n",
      "2152/2152 - 2s - 1ms/step - accuracy: 0.6434 - loss: 23723562.0000\n",
      "Epoch 14/30\n",
      "2152/2152 - 2s - 1ms/step - accuracy: 0.6434 - loss: 28846488.0000\n",
      "Epoch 15/30\n",
      "2152/2152 - 2s - 1ms/step - accuracy: 0.6435 - loss: 34965724.0000\n",
      "Epoch 16/30\n",
      "2152/2152 - 2s - 1ms/step - accuracy: 0.6436 - loss: 41832932.0000\n",
      "Epoch 17/30\n",
      "2152/2152 - 2s - 1ms/step - accuracy: 0.6436 - loss: 49535072.0000\n",
      "Epoch 18/30\n",
      "2152/2152 - 2s - 1ms/step - accuracy: 0.6436 - loss: 57760240.0000\n",
      "Epoch 19/30\n",
      "2152/2152 - 2s - 1ms/step - accuracy: 0.6436 - loss: 67050700.0000\n",
      "Epoch 20/30\n",
      "2152/2152 - 2s - 1ms/step - accuracy: 0.6436 - loss: 77513704.0000\n",
      "Epoch 21/30\n",
      "2152/2152 - 2s - 1ms/step - accuracy: 0.6436 - loss: 88462168.0000\n",
      "Epoch 22/30\n",
      "2152/2152 - 2s - 1ms/step - accuracy: 0.6435 - loss: 100955744.0000\n",
      "Epoch 23/30\n",
      "2152/2152 - 2s - 1ms/step - accuracy: 0.6435 - loss: 114171960.0000\n",
      "Epoch 24/30\n",
      "2152/2152 - 2s - 1ms/step - accuracy: 0.6436 - loss: 128915432.0000\n",
      "Epoch 25/30\n",
      "2152/2152 - 2s - 1ms/step - accuracy: 0.6435 - loss: 144057888.0000\n",
      "Epoch 26/30\n",
      "2152/2152 - 2s - 1ms/step - accuracy: 0.6436 - loss: 162009184.0000\n",
      "Epoch 27/30\n",
      "2152/2152 - 2s - 1ms/step - accuracy: 0.6436 - loss: 180605504.0000\n",
      "Epoch 28/30\n",
      "2152/2152 - 2s - 1ms/step - accuracy: 0.6436 - loss: 199865344.0000\n",
      "Epoch 29/30\n",
      "2152/2152 - 2s - 1ms/step - accuracy: 0.6436 - loss: 220125600.0000\n",
      "Epoch 30/30\n",
      "2152/2152 - 2s - 1ms/step - accuracy: 0.6435 - loss: 242623072.0000\n"
     ]
    },
    {
     "data": {
      "text/plain": [
       "<keras.src.callbacks.history.History at 0x21d2aabbe30>"
      ]
     },
     "execution_count": 56,
     "metadata": {},
     "output_type": "execute_result"
    }
   ],
   "source": [
    "model.compile(loss='categorical_crossentropy', optimizer='adam', metrics=['accuracy'])\n",
    "model.fit(X_train, y_train, batch_size=batch_size, epochs=epochs, verbose=2)"
   ]
  },
  {
   "cell_type": "code",
   "execution_count": 57,
   "id": "b7f5861f",
   "metadata": {},
   "outputs": [],
   "source": [
    "epochs = 30\n",
    "batch_size = 16\n",
    "n_hidden = 64\n",
    "\n",
    "timesteps = len(X_train[0])\n",
    "input_dim = len(X_train[0][0])\n",
    "n_classes = len(y_train[0])\n",
    "\n",
    "model = Sequential()\n",
    "model.add(Conv1D(n_hidden, kernel_size=2, activation='relu', input_shape=(timesteps, input_dim)))\n",
    "model.add(Dense(16, activation='relu'))\n",
    "model.add(MaxPooling1D())\n",
    "model.add(Flatten())\n",
    "model.add(Dense(n_classes, activation='tanh')) # Options: sigmoid, tanh, softmax, relu"
   ]
  },
  {
   "cell_type": "code",
   "execution_count": 58,
   "id": "2c7b3ac1",
   "metadata": {},
   "outputs": [
    {
     "name": "stdout",
     "output_type": "stream",
     "text": [
      "Epoch 1/30\n",
      "1076/1076 - 2s - 2ms/step - accuracy: 0.2360 - loss: 26.8052\n",
      "Epoch 2/30\n",
      "1076/1076 - 1s - 1ms/step - accuracy: 0.2607 - loss: 28.0306\n",
      "Epoch 3/30\n",
      "1076/1076 - 1s - 1ms/step - accuracy: 0.2613 - loss: 28.0278\n",
      "Epoch 4/30\n",
      "1076/1076 - 1s - 1ms/step - accuracy: 0.2611 - loss: 28.0278\n",
      "Epoch 5/30\n",
      "1076/1076 - 1s - 1ms/step - accuracy: 0.2610 - loss: 28.0287\n",
      "Epoch 6/30\n",
      "1076/1076 - 1s - 1ms/step - accuracy: 0.2609 - loss: 28.0269\n",
      "Epoch 7/30\n",
      "1076/1076 - 1s - 1ms/step - accuracy: 0.2864 - loss: 29.6226\n",
      "Epoch 8/30\n",
      "1076/1076 - 1s - 1ms/step - accuracy: 0.3118 - loss: 30.5384\n",
      "Epoch 9/30\n",
      "1076/1076 - 1s - 1ms/step - accuracy: 0.5335 - loss: 28.0316\n",
      "Epoch 10/30\n",
      "1076/1076 - 1s - 1ms/step - accuracy: 0.6317 - loss: 26.8994\n",
      "Epoch 11/30\n",
      "1076/1076 - 1s - 1ms/step - accuracy: 0.6323 - loss: 27.1644\n",
      "Epoch 12/30\n",
      "1076/1076 - 1s - 1ms/step - accuracy: 0.6340 - loss: 27.1560\n",
      "Epoch 13/30\n",
      "1076/1076 - 1s - 1ms/step - accuracy: 0.6348 - loss: 27.0221\n",
      "Epoch 14/30\n",
      "1076/1076 - 1s - 1ms/step - accuracy: 0.6354 - loss: 27.0165\n",
      "Epoch 15/30\n",
      "1076/1076 - 1s - 1ms/step - accuracy: 0.6360 - loss: 27.0295\n",
      "Epoch 16/30\n",
      "1076/1076 - 1s - 1ms/step - accuracy: 0.6364 - loss: 27.0248\n",
      "Epoch 17/30\n",
      "1076/1076 - 1s - 1ms/step - accuracy: 0.6366 - loss: 27.0127\n",
      "Epoch 18/30\n",
      "1076/1076 - 1s - 1ms/step - accuracy: 0.6368 - loss: 26.9958\n",
      "Epoch 19/30\n",
      "1076/1076 - 1s - 1ms/step - accuracy: 0.6371 - loss: 26.9930\n",
      "Epoch 20/30\n",
      "1076/1076 - 1s - 1ms/step - accuracy: 0.6371 - loss: 26.9893\n",
      "Epoch 21/30\n",
      "1076/1076 - 1s - 1ms/step - accuracy: 0.6372 - loss: 26.9912\n",
      "Epoch 22/30\n",
      "1076/1076 - 1s - 1ms/step - accuracy: 0.6377 - loss: 26.9827\n",
      "Epoch 23/30\n",
      "1076/1076 - 1s - 1ms/step - accuracy: 0.6379 - loss: 26.9696\n",
      "Epoch 24/30\n",
      "1076/1076 - 1s - 1ms/step - accuracy: 0.6383 - loss: 26.9790\n",
      "Epoch 25/30\n",
      "1076/1076 - 1s - 1ms/step - accuracy: 0.6389 - loss: 26.9752\n",
      "Epoch 26/30\n",
      "1076/1076 - 1s - 1ms/step - accuracy: 0.6391 - loss: 26.9734\n",
      "Epoch 27/30\n",
      "1076/1076 - 1s - 1ms/step - accuracy: 0.6391 - loss: 26.9733\n",
      "Epoch 28/30\n",
      "1076/1076 - 1s - 1ms/step - accuracy: 0.6391 - loss: 26.9734\n",
      "Epoch 29/30\n",
      "1076/1076 - 1s - 1ms/step - accuracy: 0.6391 - loss: 26.9734\n",
      "Epoch 30/30\n",
      "1076/1076 - 1s - 1ms/step - accuracy: 0.6391 - loss: 26.9734\n"
     ]
    },
    {
     "data": {
      "text/plain": [
       "<keras.src.callbacks.history.History at 0x21d2ac160c0>"
      ]
     },
     "execution_count": 58,
     "metadata": {},
     "output_type": "execute_result"
    }
   ],
   "source": [
    "model.compile(loss='categorical_crossentropy', optimizer='adam', metrics=['accuracy'])\n",
    "model.fit(X_train, y_train, batch_size=batch_size, epochs=epochs, verbose=2)"
   ]
  },
  {
   "cell_type": "code",
   "execution_count": 59,
   "id": "b3fe95a2",
   "metadata": {},
   "outputs": [],
   "source": [
    "epochs = 15\n",
    "batch_size = 16\n",
    "n_hidden = 256\n",
    "\n",
    "timesteps = len(X_train[0])\n",
    "input_dim = len(X_train[0][0])\n",
    "n_classes = len(y_train[0])\n",
    "\n",
    "model = Sequential()\n",
    "model.add(Conv1D(n_hidden, kernel_size=2, activation='relu', input_shape=(timesteps, input_dim)))\n",
    "model.add(Dense(16, activation='relu'))\n",
    "model.add(MaxPooling1D())\n",
    "model.add(Flatten())\n",
    "model.add(Dense(n_classes, activation='tanh')) # Options: sigmoid, tanh, softmax, relu"
   ]
  },
  {
   "cell_type": "code",
   "execution_count": 60,
   "id": "4ed33162",
   "metadata": {},
   "outputs": [
    {
     "name": "stdout",
     "output_type": "stream",
     "text": [
      "Epoch 1/15\n",
      "1076/1076 - 2s - 2ms/step - accuracy: 0.1968 - loss: 29.8066\n",
      "Epoch 2/15\n",
      "1076/1076 - 1s - 1ms/step - accuracy: 0.1170 - loss: 30.6313\n",
      "Epoch 3/15\n",
      "1076/1076 - 1s - 1ms/step - accuracy: 0.1144 - loss: 30.6339\n",
      "Epoch 4/15\n",
      "1076/1076 - 1s - 1ms/step - accuracy: 0.1121 - loss: 30.6227\n",
      "Epoch 5/15\n",
      "1076/1076 - 1s - 1ms/step - accuracy: 0.1113 - loss: 30.6189\n",
      "Epoch 6/15\n",
      "1076/1076 - 1s - 1ms/step - accuracy: 0.1114 - loss: 30.6189\n",
      "Epoch 7/15\n",
      "1076/1076 - 1s - 1ms/step - accuracy: 0.1114 - loss: 30.6189\n",
      "Epoch 8/15\n",
      "1076/1076 - 1s - 1ms/step - accuracy: 0.1114 - loss: 30.6189\n",
      "Epoch 9/15\n",
      "1076/1076 - 1s - 1ms/step - accuracy: 0.1114 - loss: 30.6189\n",
      "Epoch 10/15\n",
      "1076/1076 - 1s - 1ms/step - accuracy: 0.1114 - loss: 30.6189\n",
      "Epoch 11/15\n",
      "1076/1076 - 1s - 1ms/step - accuracy: 0.1114 - loss: 30.6189\n",
      "Epoch 12/15\n",
      "1076/1076 - 1s - 1ms/step - accuracy: 0.1114 - loss: 30.6189\n",
      "Epoch 13/15\n",
      "1076/1076 - 1s - 1ms/step - accuracy: 0.1114 - loss: 30.6189\n",
      "Epoch 14/15\n",
      "1076/1076 - 1s - 1ms/step - accuracy: 0.1114 - loss: 30.6189\n",
      "Epoch 15/15\n",
      "1076/1076 - 1s - 1ms/step - accuracy: 0.1114 - loss: 30.6189\n"
     ]
    },
    {
     "data": {
      "text/plain": [
       "<keras.src.callbacks.history.History at 0x21d2ae09130>"
      ]
     },
     "execution_count": 60,
     "metadata": {},
     "output_type": "execute_result"
    }
   ],
   "source": [
    "model.compile(loss='categorical_crossentropy', optimizer='adam', metrics=['accuracy'])\n",
    "model.fit(X_train, y_train, batch_size=batch_size, epochs=epochs, verbose=2)"
   ]
  },
  {
   "cell_type": "code",
   "execution_count": 61,
   "id": "c1f0711d",
   "metadata": {},
   "outputs": [],
   "source": [
    "epochs = 15\n",
    "batch_size = 16\n",
    "n_hidden = 32\n",
    "\n",
    "timesteps = len(X_train[0])\n",
    "input_dim = len(X_train[0][0])\n",
    "n_classes = len(y_train[0])\n",
    "\n",
    "model = Sequential()\n",
    "model.add(Conv1D(n_hidden, kernel_size=2, activation='relu', input_shape=(timesteps, input_dim)))\n",
    "model.add(Dense(16, activation='relu'))\n",
    "model.add(MaxPooling1D())\n",
    "model.add(Flatten())\n",
    "model.add(Dense(n_classes, activation='tanh')) # Options: sigmoid, tanh, softmax, relu"
   ]
  },
  {
   "cell_type": "code",
   "execution_count": 62,
   "id": "b1f64549",
   "metadata": {},
   "outputs": [
    {
     "name": "stdout",
     "output_type": "stream",
     "text": [
      "Epoch 1/15\n",
      "1076/1076 - 2s - 2ms/step - accuracy: 0.0576 - loss: 27.7963\n",
      "Epoch 2/15\n",
      "1076/1076 - 1s - 1ms/step - accuracy: 0.2358 - loss: 21.0694\n",
      "Epoch 3/15\n",
      "1076/1076 - 1s - 1ms/step - accuracy: 0.2666 - loss: 20.2122\n",
      "Epoch 4/15\n",
      "1076/1076 - 1s - 1ms/step - accuracy: 0.2668 - loss: 20.2413\n",
      "Epoch 5/15\n",
      "1076/1076 - 1s - 1ms/step - accuracy: 0.2670 - loss: 20.2441\n",
      "Epoch 6/15\n",
      "1076/1076 - 1s - 1ms/step - accuracy: 0.2672 - loss: 20.2497\n",
      "Epoch 7/15\n",
      "1076/1076 - 1s - 1ms/step - accuracy: 0.2676 - loss: 20.2572\n",
      "Epoch 8/15\n",
      "1076/1076 - 1s - 1ms/step - accuracy: 0.2686 - loss: 20.2656\n",
      "Epoch 9/15\n",
      "1076/1076 - 1s - 1ms/step - accuracy: 0.2692 - loss: 20.2750\n",
      "Epoch 10/15\n",
      "1076/1076 - 1s - 1ms/step - accuracy: 0.2695 - loss: 20.2834\n",
      "Epoch 11/15\n",
      "1076/1076 - 1s - 1ms/step - accuracy: 0.2697 - loss: 20.2909\n",
      "Epoch 12/15\n",
      "1076/1076 - 1s - 1ms/step - accuracy: 0.2697 - loss: 20.2909\n",
      "Epoch 13/15\n",
      "1076/1076 - 1s - 1ms/step - accuracy: 0.2697 - loss: 20.2909\n",
      "Epoch 14/15\n",
      "1076/1076 - 1s - 1ms/step - accuracy: 0.2697 - loss: 20.2909\n",
      "Epoch 15/15\n",
      "1076/1076 - 1s - 1ms/step - accuracy: 0.2697 - loss: 20.2909\n"
     ]
    },
    {
     "data": {
      "text/plain": [
       "<keras.src.callbacks.history.History at 0x21d2b1fbe30>"
      ]
     },
     "execution_count": 62,
     "metadata": {},
     "output_type": "execute_result"
    }
   ],
   "source": [
    "model.compile(loss='categorical_crossentropy', optimizer='adam', metrics=['accuracy'])\n",
    "model.fit(X_train, y_train, batch_size=batch_size, epochs=epochs, verbose=2)"
   ]
  },
  {
   "cell_type": "code",
   "execution_count": 63,
   "id": "6a160871",
   "metadata": {},
   "outputs": [],
   "source": [
    "epochs = 30\n",
    "batch_size = 16\n",
    "n_hidden = 32\n",
    "\n",
    "timesteps = len(X_train[0])\n",
    "input_dim = len(X_train[0][0])\n",
    "n_classes = len(y_train[0])\n",
    "\n",
    "model = Sequential()\n",
    "model.add(Conv1D(n_hidden, kernel_size=2, activation='relu', input_shape=(timesteps, input_dim)))\n",
    "model.add(Dense(16, activation='relu'))\n",
    "model.add(MaxPooling1D())\n",
    "model.add(Flatten())\n",
    "model.add(Dense(n_classes, activation='tanh')) # Options: sigmoid, tanh, softmax, relu"
   ]
  },
  {
   "cell_type": "code",
   "execution_count": 64,
   "id": "e4ebf371",
   "metadata": {},
   "outputs": [
    {
     "name": "stdout",
     "output_type": "stream",
     "text": [
      "Epoch 1/30\n",
      "1076/1076 - 2s - 2ms/step - accuracy: 0.3658 - loss: 24.9991\n",
      "Epoch 2/30\n",
      "1076/1076 - 1s - 1ms/step - accuracy: 0.5660 - loss: 25.1250\n",
      "Epoch 3/30\n",
      "1076/1076 - 1s - 1ms/step - accuracy: 0.5706 - loss: 25.1304\n",
      "Epoch 4/30\n",
      "1076/1076 - 1s - 1ms/step - accuracy: 0.5733 - loss: 25.0705\n",
      "Epoch 5/30\n",
      "1076/1076 - 1s - 1ms/step - accuracy: 0.5213 - loss: 23.9683\n",
      "Epoch 6/30\n",
      "1076/1076 - 1s - 1ms/step - accuracy: 0.4937 - loss: 23.2575\n",
      "Epoch 7/30\n",
      "1076/1076 - 1s - 1ms/step - accuracy: 0.4939 - loss: 23.2575\n",
      "Epoch 8/30\n",
      "1076/1076 - 1s - 1ms/step - accuracy: 0.4940 - loss: 23.2575\n",
      "Epoch 9/30\n",
      "1076/1076 - 1s - 1ms/step - accuracy: 0.4941 - loss: 23.2575\n",
      "Epoch 10/30\n",
      "1076/1076 - 1s - 1ms/step - accuracy: 0.4941 - loss: 23.2576\n",
      "Epoch 11/30\n",
      "1076/1076 - 1s - 1ms/step - accuracy: 0.4945 - loss: 23.2575\n",
      "Epoch 12/30\n",
      "1076/1076 - 1s - 1ms/step - accuracy: 0.4947 - loss: 23.2575\n",
      "Epoch 13/30\n",
      "1076/1076 - 1s - 1ms/step - accuracy: 0.4949 - loss: 23.2575\n",
      "Epoch 14/30\n",
      "1076/1076 - 1s - 1ms/step - accuracy: 0.4953 - loss: 23.2575\n",
      "Epoch 15/30\n",
      "1076/1076 - 1s - 1ms/step - accuracy: 0.5045 - loss: 23.2575\n",
      "Epoch 16/30\n",
      "1076/1076 - 1s - 1ms/step - accuracy: 0.6170 - loss: 23.3109\n",
      "Epoch 17/30\n",
      "1076/1076 - 1s - 1ms/step - accuracy: 0.6175 - loss: 23.1995\n",
      "Epoch 18/30\n",
      "1076/1076 - 1s - 1ms/step - accuracy: 0.6179 - loss: 23.1995\n",
      "Epoch 19/30\n",
      "1076/1076 - 1s - 1ms/step - accuracy: 0.6181 - loss: 23.2004\n",
      "Epoch 20/30\n",
      "1076/1076 - 1s - 1ms/step - accuracy: 0.6182 - loss: 23.1995\n",
      "Epoch 21/30\n",
      "1076/1076 - 1s - 1ms/step - accuracy: 0.6183 - loss: 23.2032\n",
      "Epoch 22/30\n",
      "1076/1076 - 1s - 1ms/step - accuracy: 0.6184 - loss: 23.2060\n",
      "Epoch 23/30\n",
      "1076/1076 - 1s - 1ms/step - accuracy: 0.6184 - loss: 23.2061\n",
      "Epoch 24/30\n",
      "1076/1076 - 1s - 1ms/step - accuracy: 0.6184 - loss: 23.2051\n",
      "Epoch 25/30\n",
      "1076/1076 - 1s - 1ms/step - accuracy: 0.6141 - loss: 24.3204\n",
      "Epoch 26/30\n",
      "1076/1076 - 1s - 1ms/step - accuracy: 0.6097 - loss: 25.5396\n",
      "Epoch 27/30\n",
      "1076/1076 - 1s - 1ms/step - accuracy: 0.6097 - loss: 25.5397\n",
      "Epoch 28/30\n",
      "1076/1076 - 1s - 1ms/step - accuracy: 0.6097 - loss: 25.5396\n",
      "Epoch 29/30\n",
      "1076/1076 - 1s - 1ms/step - accuracy: 0.6097 - loss: 25.5396\n",
      "Epoch 30/30\n",
      "1076/1076 - 1s - 1ms/step - accuracy: 0.6097 - loss: 25.5397\n"
     ]
    },
    {
     "data": {
      "text/plain": [
       "<keras.src.callbacks.history.History at 0x21d2a5360c0>"
      ]
     },
     "execution_count": 64,
     "metadata": {},
     "output_type": "execute_result"
    }
   ],
   "source": [
    "model.compile(loss='categorical_crossentropy', optimizer='adam', metrics=['accuracy'])\n",
    "model.fit(X_train, y_train, batch_size=batch_size, epochs=epochs, verbose=2)"
   ]
  },
  {
   "cell_type": "code",
   "execution_count": 65,
   "id": "3d4cda2b",
   "metadata": {},
   "outputs": [],
   "source": [
    "epochs = 30\n",
    "batch_size = 16\n",
    "n_hidden = 64\n",
    "\n",
    "timesteps = len(X_train[0])\n",
    "input_dim = len(X_train[0][0])\n",
    "n_classes = len(y_train[0])\n",
    "\n",
    "model = Sequential()\n",
    "model.add(Conv1D(n_hidden, kernel_size=2, activation='relu', input_shape=(timesteps, input_dim)))\n",
    "model.add(Dense(16, activation='relu'))\n",
    "model.add(MaxPooling1D())\n",
    "model.add(Flatten())\n",
    "model.add(Dense(n_classes, activation='softmax')) # Options: sigmoid, tanh, softmax, relu"
   ]
  },
  {
   "cell_type": "code",
   "execution_count": 66,
   "id": "e7bccf70",
   "metadata": {},
   "outputs": [
    {
     "name": "stdout",
     "output_type": "stream",
     "text": [
      "Epoch 1/30\n",
      "1076/1076 - 2s - 2ms/step - accuracy: 0.1039 - loss: 6130.0713\n",
      "Epoch 2/30\n",
      "1076/1076 - 1s - 1ms/step - accuracy: 0.1258 - loss: 63679.5742\n",
      "Epoch 3/30\n",
      "1076/1076 - 1s - 1ms/step - accuracy: 0.1301 - loss: 207601.3438\n",
      "Epoch 4/30\n",
      "1076/1076 - 1s - 1ms/step - accuracy: 0.1335 - loss: 476720.5000\n",
      "Epoch 5/30\n",
      "1076/1076 - 1s - 1ms/step - accuracy: 0.1354 - loss: 870771.2500\n",
      "Epoch 6/30\n",
      "1076/1076 - 1s - 1ms/step - accuracy: 0.1345 - loss: 1418664.2500\n",
      "Epoch 7/30\n",
      "1076/1076 - 1s - 1ms/step - accuracy: 0.1386 - loss: 2107267.0000\n",
      "Epoch 8/30\n",
      "1076/1076 - 1s - 1ms/step - accuracy: 0.1350 - loss: 2988271.0000\n",
      "Epoch 9/30\n",
      "1076/1076 - 1s - 1ms/step - accuracy: 0.1369 - loss: 4073439.2500\n",
      "Epoch 10/30\n",
      "1076/1076 - 1s - 1ms/step - accuracy: 0.1350 - loss: 5332136.0000\n",
      "Epoch 11/30\n",
      "1076/1076 - 1s - 1ms/step - accuracy: 0.1365 - loss: 6774249.0000\n",
      "Epoch 12/30\n",
      "1076/1076 - 1s - 1ms/step - accuracy: 0.1355 - loss: 8415929.0000\n",
      "Epoch 13/30\n",
      "1076/1076 - 1s - 1ms/step - accuracy: 0.1344 - loss: 10304874.0000\n",
      "Epoch 14/30\n",
      "1076/1076 - 1s - 1ms/step - accuracy: 0.1322 - loss: 12589036.0000\n",
      "Epoch 15/30\n",
      "1076/1076 - 1s - 1ms/step - accuracy: 0.1319 - loss: 15000023.0000\n",
      "Epoch 16/30\n",
      "1076/1076 - 1s - 1ms/step - accuracy: 0.1340 - loss: 17654224.0000\n",
      "Epoch 17/30\n",
      "1076/1076 - 1s - 1ms/step - accuracy: 0.1360 - loss: 20726588.0000\n",
      "Epoch 18/30\n",
      "1076/1076 - 1s - 1ms/step - accuracy: 0.1360 - loss: 23957188.0000\n",
      "Epoch 19/30\n",
      "1076/1076 - 1s - 1ms/step - accuracy: 0.1308 - loss: 27773948.0000\n",
      "Epoch 20/30\n",
      "1076/1076 - 1s - 1ms/step - accuracy: 0.1293 - loss: 31847824.0000\n",
      "Epoch 21/30\n",
      "1076/1076 - 1s - 1ms/step - accuracy: 0.1352 - loss: 36024452.0000\n",
      "Epoch 22/30\n",
      "1076/1076 - 1s - 1ms/step - accuracy: 0.1336 - loss: 40640224.0000\n",
      "Epoch 23/30\n",
      "1076/1076 - 1s - 1ms/step - accuracy: 0.1328 - loss: 45730856.0000\n",
      "Epoch 24/30\n",
      "1076/1076 - 1s - 1ms/step - accuracy: 0.1348 - loss: 51445688.0000\n",
      "Epoch 25/30\n",
      "1076/1076 - 1s - 1ms/step - accuracy: 0.1330 - loss: 57498064.0000\n",
      "Epoch 26/30\n",
      "1076/1076 - 1s - 1ms/step - accuracy: 0.1262 - loss: 63711644.0000\n",
      "Epoch 27/30\n",
      "1076/1076 - 1s - 1ms/step - accuracy: 0.1257 - loss: 70693488.0000\n",
      "Epoch 28/30\n",
      "1076/1076 - 1s - 1ms/step - accuracy: 0.1266 - loss: 77726024.0000\n",
      "Epoch 29/30\n",
      "1076/1076 - 1s - 1ms/step - accuracy: 0.1253 - loss: 85522824.0000\n",
      "Epoch 30/30\n",
      "1076/1076 - 1s - 1ms/step - accuracy: 0.1238 - loss: 93644264.0000\n"
     ]
    },
    {
     "data": {
      "text/plain": [
       "<keras.src.callbacks.history.History at 0x21d2f41fce0>"
      ]
     },
     "execution_count": 66,
     "metadata": {},
     "output_type": "execute_result"
    }
   ],
   "source": [
    "model.compile(loss='categorical_crossentropy', optimizer='adam', metrics=['accuracy'])\n",
    "model.fit(X_train, y_train, batch_size=batch_size, epochs=epochs, verbose=2)"
   ]
  },
  {
   "cell_type": "code",
   "execution_count": 67,
   "id": "af801089",
   "metadata": {},
   "outputs": [],
   "source": [
    "epochs = 10\n",
    "batch_size = 8\n",
    "n_hidden = 256\n",
    "\n",
    "timesteps = len(X_train[0])\n",
    "input_dim = len(X_train[0][0])\n",
    "n_classes = len(y_train[0])\n",
    "\n",
    "model = Sequential()\n",
    "model.add(Conv1D(n_hidden, kernel_size=2, activation='relu', input_shape=(timesteps, input_dim)))\n",
    "model.add(Dense(16, activation='relu'))\n",
    "model.add(MaxPooling1D())\n",
    "model.add(Flatten())\n",
    "model.add(Dense(n_classes, activation='softmax')) # Options: sigmoid, tanh, softmax, relu"
   ]
  },
  {
   "cell_type": "code",
   "execution_count": 68,
   "id": "510f5dcc",
   "metadata": {},
   "outputs": [
    {
     "name": "stdout",
     "output_type": "stream",
     "text": [
      "Epoch 1/10\n",
      "2152/2152 - 4s - 2ms/step - accuracy: 0.1104 - loss: 188371.2031\n",
      "Epoch 2/10\n",
      "2152/2152 - 3s - 1ms/step - accuracy: 0.1373 - loss: 1906187.0000\n",
      "Epoch 3/10\n",
      "2152/2152 - 2s - 1ms/step - accuracy: 0.1346 - loss: 6131111.0000\n",
      "Epoch 4/10\n",
      "2152/2152 - 2s - 1ms/step - accuracy: 0.1362 - loss: 13508194.0000\n",
      "Epoch 5/10\n",
      "2152/2152 - 2s - 1ms/step - accuracy: 0.1364 - loss: 24831538.0000\n",
      "Epoch 6/10\n",
      "2152/2152 - 2s - 1ms/step - accuracy: 0.1319 - loss: 40508048.0000\n",
      "Epoch 7/10\n",
      "2152/2152 - 3s - 1ms/step - accuracy: 0.1344 - loss: 60945088.0000\n",
      "Epoch 8/10\n",
      "2152/2152 - 2s - 1ms/step - accuracy: 0.1337 - loss: 87247912.0000\n",
      "Epoch 9/10\n",
      "2152/2152 - 3s - 1ms/step - accuracy: 0.1348 - loss: 121237112.0000\n",
      "Epoch 10/10\n",
      "2152/2152 - 2s - 1ms/step - accuracy: 0.1372 - loss: 159318720.0000\n"
     ]
    },
    {
     "data": {
      "text/plain": [
       "<keras.src.callbacks.history.History at 0x21d2ab450d0>"
      ]
     },
     "execution_count": 68,
     "metadata": {},
     "output_type": "execute_result"
    }
   ],
   "source": [
    "model.compile(loss='categorical_crossentropy', optimizer='adam', metrics=['accuracy'])\n",
    "model.fit(X_train, y_train, batch_size=batch_size, epochs=epochs, verbose=2)"
   ]
  },
  {
   "cell_type": "code",
   "execution_count": 69,
   "id": "d593de03",
   "metadata": {},
   "outputs": [],
   "source": [
    "epochs = 30\n",
    "batch_size = 16\n",
    "n_hidden = 64\n",
    "\n",
    "timesteps = len(X_train[0])\n",
    "input_dim = len(X_train[0][0])\n",
    "n_classes = len(y_train[0])\n",
    "\n",
    "model = Sequential()\n",
    "model.add(Conv1D(n_hidden, kernel_size=2, activation='relu', input_shape=(timesteps, input_dim)))\n",
    "model.add(Dense(16, activation='relu'))\n",
    "model.add(MaxPooling1D())\n",
    "model.add(Flatten())\n",
    "model.add(Dense(n_classes, activation='relu')) # Options: sigmoid, tanh, softmax, relu"
   ]
  },
  {
   "cell_type": "code",
   "execution_count": 70,
   "id": "11562e5a",
   "metadata": {},
   "outputs": [
    {
     "name": "stdout",
     "output_type": "stream",
     "text": [
      "Epoch 1/30\n",
      "1076/1076 - 2s - 2ms/step - accuracy: 0.1419 - loss: 23.1101\n",
      "Epoch 2/30\n",
      "1076/1076 - 1s - 1ms/step - accuracy: 0.4134 - loss: nan\n",
      "Epoch 3/30\n",
      "1076/1076 - 1s - 1ms/step - accuracy: 0.6440 - loss: nan\n",
      "Epoch 4/30\n",
      "1076/1076 - 1s - 1ms/step - accuracy: 0.6440 - loss: nan\n",
      "Epoch 5/30\n",
      "1076/1076 - 1s - 1ms/step - accuracy: 0.6440 - loss: nan\n",
      "Epoch 6/30\n",
      "1076/1076 - 1s - 1ms/step - accuracy: 0.6440 - loss: nan\n",
      "Epoch 7/30\n",
      "1076/1076 - 1s - 1ms/step - accuracy: 0.6440 - loss: nan\n",
      "Epoch 8/30\n",
      "1076/1076 - 1s - 1ms/step - accuracy: 0.6440 - loss: nan\n",
      "Epoch 9/30\n",
      "1076/1076 - 1s - 1ms/step - accuracy: 0.6440 - loss: nan\n",
      "Epoch 10/30\n",
      "1076/1076 - 1s - 1ms/step - accuracy: 0.6440 - loss: nan\n",
      "Epoch 11/30\n",
      "1076/1076 - 1s - 1ms/step - accuracy: 0.6440 - loss: nan\n",
      "Epoch 12/30\n",
      "1076/1076 - 1s - 1ms/step - accuracy: 0.6440 - loss: nan\n",
      "Epoch 13/30\n",
      "1076/1076 - 1s - 1ms/step - accuracy: 0.6440 - loss: nan\n",
      "Epoch 14/30\n",
      "1076/1076 - 1s - 1ms/step - accuracy: 0.6440 - loss: nan\n",
      "Epoch 15/30\n",
      "1076/1076 - 1s - 1ms/step - accuracy: 0.6440 - loss: nan\n",
      "Epoch 16/30\n",
      "1076/1076 - 1s - 1ms/step - accuracy: 0.6440 - loss: nan\n",
      "Epoch 17/30\n",
      "1076/1076 - 1s - 1ms/step - accuracy: 0.6440 - loss: nan\n",
      "Epoch 18/30\n",
      "1076/1076 - 1s - 1ms/step - accuracy: 0.6440 - loss: nan\n",
      "Epoch 19/30\n",
      "1076/1076 - 1s - 1ms/step - accuracy: 0.6440 - loss: nan\n",
      "Epoch 20/30\n",
      "1076/1076 - 1s - 1ms/step - accuracy: 0.6440 - loss: nan\n",
      "Epoch 21/30\n",
      "1076/1076 - 1s - 1ms/step - accuracy: 0.6440 - loss: nan\n",
      "Epoch 22/30\n",
      "1076/1076 - 1s - 1ms/step - accuracy: 0.6440 - loss: nan\n",
      "Epoch 23/30\n",
      "1076/1076 - 1s - 1ms/step - accuracy: 0.6440 - loss: nan\n",
      "Epoch 24/30\n",
      "1076/1076 - 1s - 1ms/step - accuracy: 0.6440 - loss: nan\n",
      "Epoch 25/30\n",
      "1076/1076 - 1s - 1ms/step - accuracy: 0.6440 - loss: nan\n",
      "Epoch 26/30\n",
      "1076/1076 - 1s - 1ms/step - accuracy: 0.6440 - loss: nan\n",
      "Epoch 27/30\n",
      "1076/1076 - 1s - 1ms/step - accuracy: 0.6440 - loss: nan\n",
      "Epoch 28/30\n",
      "1076/1076 - 1s - 1ms/step - accuracy: 0.6440 - loss: nan\n",
      "Epoch 29/30\n",
      "1076/1076 - 1s - 1ms/step - accuracy: 0.6440 - loss: nan\n",
      "Epoch 30/30\n",
      "1076/1076 - 1s - 1ms/step - accuracy: 0.6440 - loss: nan\n"
     ]
    },
    {
     "data": {
      "text/plain": [
       "<keras.src.callbacks.history.History at 0x21d1bbf12e0>"
      ]
     },
     "execution_count": 70,
     "metadata": {},
     "output_type": "execute_result"
    }
   ],
   "source": [
    "model.compile(loss='categorical_crossentropy', optimizer='adam', metrics=['accuracy'])\n",
    "model.fit(X_train, y_train, batch_size=batch_size, epochs=epochs, verbose=2)"
   ]
  },
  {
   "cell_type": "code",
   "execution_count": 71,
   "id": "69a02dce",
   "metadata": {},
   "outputs": [],
   "source": [
    "epochs = 30\n",
    "batch_size = 32\n",
    "n_hidden = 256\n",
    "\n",
    "timesteps = len(X_train[0])\n",
    "input_dim = len(X_train[0][0])\n",
    "n_classes = len(y_train[0])\n",
    "\n",
    "model = Sequential()\n",
    "model.add(Conv1D(n_hidden, kernel_size=2, activation='relu', input_shape=(timesteps, input_dim)))\n",
    "model.add(Dense(16, activation='relu'))\n",
    "model.add(MaxPooling1D())\n",
    "model.add(Flatten())\n",
    "model.add(Dense(n_classes, activation='relu')) # Options: sigmoid, tanh, softmax, relu"
   ]
  },
  {
   "cell_type": "code",
   "execution_count": 72,
   "id": "92842883",
   "metadata": {},
   "outputs": [
    {
     "name": "stdout",
     "output_type": "stream",
     "text": [
      "Epoch 1/30\n",
      "538/538 - 1s - 3ms/step - accuracy: 0.0929 - loss: 20.7219\n",
      "Epoch 2/30\n",
      "538/538 - 1s - 1ms/step - accuracy: 0.1354 - loss: 16.7254\n",
      "Epoch 3/30\n",
      "538/538 - 1s - 1ms/step - accuracy: 0.2677 - loss: nan\n",
      "Epoch 4/30\n",
      "538/538 - 1s - 1ms/step - accuracy: 0.6440 - loss: nan\n",
      "Epoch 5/30\n",
      "538/538 - 1s - 1ms/step - accuracy: 0.6440 - loss: nan\n",
      "Epoch 6/30\n",
      "538/538 - 1s - 1ms/step - accuracy: 0.6440 - loss: nan\n",
      "Epoch 7/30\n",
      "538/538 - 1s - 1ms/step - accuracy: 0.6440 - loss: nan\n",
      "Epoch 8/30\n",
      "538/538 - 1s - 1ms/step - accuracy: 0.6440 - loss: nan\n",
      "Epoch 9/30\n",
      "538/538 - 1s - 1ms/step - accuracy: 0.6440 - loss: nan\n",
      "Epoch 10/30\n",
      "538/538 - 1s - 1ms/step - accuracy: 0.6440 - loss: nan\n",
      "Epoch 11/30\n",
      "538/538 - 1s - 1ms/step - accuracy: 0.6440 - loss: nan\n",
      "Epoch 12/30\n",
      "538/538 - 1s - 1ms/step - accuracy: 0.6440 - loss: nan\n",
      "Epoch 13/30\n",
      "538/538 - 1s - 1ms/step - accuracy: 0.6440 - loss: nan\n",
      "Epoch 14/30\n",
      "538/538 - 1s - 1ms/step - accuracy: 0.6440 - loss: nan\n",
      "Epoch 15/30\n",
      "538/538 - 1s - 1ms/step - accuracy: 0.6440 - loss: nan\n",
      "Epoch 16/30\n",
      "538/538 - 1s - 2ms/step - accuracy: 0.6440 - loss: nan\n",
      "Epoch 17/30\n",
      "538/538 - 1s - 1ms/step - accuracy: 0.6440 - loss: nan\n",
      "Epoch 18/30\n",
      "538/538 - 1s - 1ms/step - accuracy: 0.6440 - loss: nan\n",
      "Epoch 19/30\n",
      "538/538 - 1s - 1ms/step - accuracy: 0.6440 - loss: nan\n",
      "Epoch 20/30\n",
      "538/538 - 1s - 1ms/step - accuracy: 0.6440 - loss: nan\n",
      "Epoch 21/30\n",
      "538/538 - 1s - 1ms/step - accuracy: 0.6440 - loss: nan\n",
      "Epoch 22/30\n",
      "538/538 - 1s - 1ms/step - accuracy: 0.6440 - loss: nan\n",
      "Epoch 23/30\n",
      "538/538 - 1s - 1ms/step - accuracy: 0.6440 - loss: nan\n",
      "Epoch 24/30\n",
      "538/538 - 1s - 1ms/step - accuracy: 0.6440 - loss: nan\n",
      "Epoch 25/30\n",
      "538/538 - 1s - 1ms/step - accuracy: 0.6440 - loss: nan\n",
      "Epoch 26/30\n",
      "538/538 - 1s - 1ms/step - accuracy: 0.6440 - loss: nan\n",
      "Epoch 27/30\n",
      "538/538 - 1s - 1ms/step - accuracy: 0.6440 - loss: nan\n",
      "Epoch 28/30\n",
      "538/538 - 1s - 1ms/step - accuracy: 0.6440 - loss: nan\n",
      "Epoch 29/30\n",
      "538/538 - 1s - 1ms/step - accuracy: 0.6440 - loss: nan\n",
      "Epoch 30/30\n",
      "538/538 - 1s - 1ms/step - accuracy: 0.6440 - loss: nan\n"
     ]
    },
    {
     "data": {
      "text/plain": [
       "<keras.src.callbacks.history.History at 0x21d2a7f60c0>"
      ]
     },
     "execution_count": 72,
     "metadata": {},
     "output_type": "execute_result"
    }
   ],
   "source": [
    "model.compile(loss='categorical_crossentropy', optimizer='adam', metrics=['accuracy'])\n",
    "model.fit(X_train, y_train, batch_size=batch_size, epochs=epochs, verbose=2)"
   ]
  },
  {
   "cell_type": "code",
   "execution_count": 73,
   "id": "48c916c9",
   "metadata": {},
   "outputs": [],
   "source": [
    "epochs = 10\n",
    "batch_size = 16\n",
    "n_hidden = 256\n",
    "\n",
    "timesteps = len(X_train[0])\n",
    "input_dim = len(X_train[0][0])\n",
    "n_classes = len(y_train[0])\n",
    "\n",
    "model = Sequential()\n",
    "model.add(Conv1D(n_hidden, kernel_size=2, activation='relu', input_shape=(timesteps, input_dim)))\n",
    "model.add(Dense(16, activation='relu'))\n",
    "model.add(MaxPooling1D())\n",
    "model.add(Flatten())\n",
    "model.add(Dense(n_classes, activation='relu')) # Options: sigmoid, tanh, softmax, relu"
   ]
  },
  {
   "cell_type": "code",
   "execution_count": 74,
   "id": "684b2437",
   "metadata": {},
   "outputs": [
    {
     "name": "stdout",
     "output_type": "stream",
     "text": [
      "Epoch 1/10\n",
      "1076/1076 - 2s - 2ms/step - accuracy: 0.1428 - loss: 17.8219\n",
      "Epoch 2/10\n",
      "1076/1076 - 1s - 1ms/step - accuracy: 0.1941 - loss: 12.5746\n",
      "Epoch 3/10\n",
      "1076/1076 - 1s - 1ms/step - accuracy: 0.5554 - loss: nan\n",
      "Epoch 4/10\n",
      "1076/1076 - 1s - 1ms/step - accuracy: 0.6440 - loss: nan\n",
      "Epoch 5/10\n",
      "1076/1076 - 1s - 1ms/step - accuracy: 0.6440 - loss: nan\n",
      "Epoch 6/10\n",
      "1076/1076 - 1s - 1ms/step - accuracy: 0.6440 - loss: nan\n",
      "Epoch 7/10\n",
      "1076/1076 - 1s - 1ms/step - accuracy: 0.6440 - loss: nan\n",
      "Epoch 8/10\n",
      "1076/1076 - 1s - 1ms/step - accuracy: 0.6440 - loss: nan\n",
      "Epoch 9/10\n",
      "1076/1076 - 1s - 1ms/step - accuracy: 0.6440 - loss: nan\n",
      "Epoch 10/10\n",
      "1076/1076 - 1s - 1ms/step - accuracy: 0.6440 - loss: nan\n"
     ]
    },
    {
     "data": {
      "text/plain": [
       "<keras.src.callbacks.history.History at 0x21d2fc6f950>"
      ]
     },
     "execution_count": 74,
     "metadata": {},
     "output_type": "execute_result"
    }
   ],
   "source": [
    "model.compile(loss='categorical_crossentropy', optimizer='adam', metrics=['accuracy'])\n",
    "model.fit(X_train, y_train, batch_size=batch_size, epochs=epochs, verbose=2)"
   ]
  },
  {
   "cell_type": "code",
   "execution_count": 75,
   "id": "80c697d1",
   "metadata": {},
   "outputs": [],
   "source": [
    "epochs = 30\n",
    "batch_size = 16\n",
    "n_hidden = 256\n",
    "\n",
    "timesteps = len(X_train[0])\n",
    "input_dim = len(X_train[0][0])\n",
    "n_classes = len(y_train[0])\n",
    "\n",
    "model = Sequential()\n",
    "model.add(Conv1D(n_hidden, kernel_size=2, activation='relu', input_shape=(timesteps, input_dim)))\n",
    "model.add(Dense(16, activation='relu'))\n",
    "model.add(MaxPooling1D())\n",
    "model.add(Flatten())\n",
    "model.add(Dense(n_classes, activation='sigmoid')) # Options: sigmoid, tanh, softmax, relu"
   ]
  },
  {
   "cell_type": "code",
   "execution_count": 76,
   "id": "2418eea6",
   "metadata": {},
   "outputs": [
    {
     "name": "stdout",
     "output_type": "stream",
     "text": [
      "Epoch 1/30\n",
      "1076/1076 - 2s - 2ms/step - accuracy: 0.6212 - loss: 34133.2930\n",
      "Epoch 2/30\n",
      "1076/1076 - 1s - 1ms/step - accuracy: 0.6426 - loss: 376560.5000\n",
      "Epoch 3/30\n",
      "1076/1076 - 1s - 1ms/step - accuracy: 0.6430 - loss: 1217257.7500\n",
      "Epoch 4/30\n",
      "1076/1076 - 1s - 1ms/step - accuracy: 0.6431 - loss: 2692944.5000\n",
      "Epoch 5/30\n",
      "1076/1076 - 1s - 1ms/step - accuracy: 0.6433 - loss: 4843956.5000\n",
      "Epoch 6/30\n",
      "1076/1076 - 1s - 1ms/step - accuracy: 0.6434 - loss: 7594516.5000\n",
      "Epoch 7/30\n",
      "1076/1076 - 1s - 1ms/step - accuracy: 0.6435 - loss: 11253440.0000\n",
      "Epoch 8/30\n",
      "1076/1076 - 1s - 1ms/step - accuracy: 0.6437 - loss: 15778887.0000\n",
      "Epoch 9/30\n",
      "1076/1076 - 1s - 1ms/step - accuracy: 0.6437 - loss: 21047918.0000\n",
      "Epoch 10/30\n",
      "1076/1076 - 1s - 1ms/step - accuracy: 0.6436 - loss: 27448070.0000\n",
      "Epoch 11/30\n",
      "1076/1076 - 1s - 1ms/step - accuracy: 0.6437 - loss: 35386164.0000\n",
      "Epoch 12/30\n",
      "1076/1076 - 1s - 1ms/step - accuracy: 0.6437 - loss: 43608696.0000\n",
      "Epoch 13/30\n",
      "1076/1076 - 1s - 1ms/step - accuracy: 0.6436 - loss: 53038528.0000\n",
      "Epoch 14/30\n",
      "1076/1076 - 1s - 1ms/step - accuracy: 0.6436 - loss: 64167412.0000\n",
      "Epoch 15/30\n",
      "1076/1076 - 1s - 1ms/step - accuracy: 0.6437 - loss: 76186384.0000\n",
      "Epoch 16/30\n",
      "1076/1076 - 1s - 1ms/step - accuracy: 0.6436 - loss: 90203408.0000\n",
      "Epoch 17/30\n",
      "1076/1076 - 1s - 1ms/step - accuracy: 0.6437 - loss: 104895640.0000\n",
      "Epoch 18/30\n",
      "1076/1076 - 1s - 1ms/step - accuracy: 0.6437 - loss: 122829408.0000\n",
      "Epoch 19/30\n",
      "1076/1076 - 1s - 1ms/step - accuracy: 0.6437 - loss: 140927296.0000\n",
      "Epoch 20/30\n",
      "1076/1076 - 1s - 1ms/step - accuracy: 0.6438 - loss: 161353952.0000\n",
      "Epoch 21/30\n",
      "1076/1076 - 1s - 1ms/step - accuracy: 0.6438 - loss: 183380864.0000\n",
      "Epoch 22/30\n",
      "1076/1076 - 1s - 1ms/step - accuracy: 0.6438 - loss: 206863824.0000\n",
      "Epoch 23/30\n",
      "1076/1076 - 1s - 1ms/step - accuracy: 0.6438 - loss: 232122976.0000\n",
      "Epoch 24/30\n",
      "1076/1076 - 1s - 1ms/step - accuracy: 0.6439 - loss: 258342144.0000\n",
      "Epoch 25/30\n",
      "1076/1076 - 1s - 1ms/step - accuracy: 0.6438 - loss: 287023648.0000\n",
      "Epoch 26/30\n",
      "1076/1076 - 1s - 1ms/step - accuracy: 0.6438 - loss: 318658496.0000\n",
      "Epoch 27/30\n",
      "1076/1076 - 1s - 1ms/step - accuracy: 0.6438 - loss: 353447968.0000\n",
      "Epoch 28/30\n",
      "1076/1076 - 1s - 1ms/step - accuracy: 0.6438 - loss: 389794976.0000\n",
      "Epoch 29/30\n",
      "1076/1076 - 1s - 1ms/step - accuracy: 0.6438 - loss: 428484608.0000\n",
      "Epoch 30/30\n",
      "1076/1076 - 1s - 1ms/step - accuracy: 0.6439 - loss: 469982208.0000\n"
     ]
    },
    {
     "data": {
      "text/plain": [
       "<keras.src.callbacks.history.History at 0x21d2b529e50>"
      ]
     },
     "execution_count": 76,
     "metadata": {},
     "output_type": "execute_result"
    }
   ],
   "source": [
    "model.compile(loss='categorical_crossentropy', optimizer='adam', metrics=['accuracy'])\n",
    "model.fit(X_train, y_train, batch_size=batch_size, epochs=epochs, verbose=2)"
   ]
  },
  {
   "cell_type": "code",
   "execution_count": 83,
   "id": "e8b237f9",
   "metadata": {},
   "outputs": [],
   "source": [
    "epochs = 30\n",
    "batch_size = 16\n",
    "n_hidden = 64\n",
    "\n",
    "timesteps = len(X_train[0])\n",
    "input_dim = len(X_train[0][0])\n",
    "n_classes = len(y_train[0])\n",
    "\n",
    "model = Sequential()\n",
    "model.add(Conv1D(n_hidden, kernel_size=2, activation='relu', input_shape=(timesteps, input_dim)))\n",
    "model.add(Dense(16, activation='relu'))\n",
    "model.add(MaxPooling1D())\n",
    "model.add(Flatten())\n",
    "model.add(Dense(n_classes, activation='tanh')) # Options: sigmoid, tanh, softmax, relu"
   ]
  },
  {
   "cell_type": "code",
   "execution_count": 84,
   "id": "f95046c2",
   "metadata": {},
   "outputs": [
    {
     "name": "stdout",
     "output_type": "stream",
     "text": [
      "Epoch 1/30\n",
      "1076/1076 - 2s - 2ms/step - accuracy: 0.0016 - loss: 23.1184\n",
      "Epoch 2/30\n",
      "1076/1076 - 1s - 1ms/step - accuracy: 0.0020 - loss: 28.6535\n",
      "Epoch 3/30\n",
      "1076/1076 - 1s - 1ms/step - accuracy: 0.0023 - loss: 28.7572\n",
      "Epoch 4/30\n",
      "1076/1076 - 1s - 1ms/step - accuracy: 0.0021 - loss: 28.7629\n",
      "Epoch 5/30\n",
      "1076/1076 - 1s - 1ms/step - accuracy: 0.0021 - loss: 28.7657\n",
      "Epoch 6/30\n",
      "1076/1076 - 1s - 1ms/step - accuracy: 0.0020 - loss: 28.7676\n",
      "Epoch 7/30\n",
      "1076/1076 - 1s - 1ms/step - accuracy: 0.0020 - loss: 28.7741\n",
      "Epoch 8/30\n",
      "1076/1076 - 1s - 1ms/step - accuracy: 0.0060 - loss: 27.3892\n",
      "Epoch 9/30\n",
      "1076/1076 - 1s - 1ms/step - accuracy: 0.0304 - loss: 19.2580\n",
      "Epoch 10/30\n",
      "1076/1076 - 1s - 1ms/step - accuracy: 0.0318 - loss: 18.8085\n",
      "Epoch 11/30\n",
      "1076/1076 - 1s - 1ms/step - accuracy: 0.0328 - loss: 18.6830\n",
      "Epoch 12/30\n",
      "1076/1076 - 1s - 1ms/step - accuracy: 0.0332 - loss: 18.6268\n",
      "Epoch 13/30\n",
      "1076/1076 - 1s - 1ms/step - accuracy: 0.0335 - loss: 18.7748\n",
      "Epoch 14/30\n",
      "1076/1076 - 1s - 1ms/step - accuracy: 0.0336 - loss: 18.9724\n",
      "Epoch 15/30\n",
      "1076/1076 - 1s - 1ms/step - accuracy: 0.0340 - loss: 19.6092\n",
      "Epoch 16/30\n",
      "1076/1076 - 1s - 1ms/step - accuracy: 0.0341 - loss: 18.4096\n",
      "Epoch 17/30\n",
      "1076/1076 - 1s - 1ms/step - accuracy: 0.0318 - loss: 27.1166\n",
      "Epoch 18/30\n",
      "1076/1076 - 1s - 1ms/step - accuracy: 0.0310 - loss: 29.8782\n",
      "Epoch 19/30\n",
      "1076/1076 - 1s - 1ms/step - accuracy: 0.0310 - loss: 29.8782\n",
      "Epoch 20/30\n",
      "1076/1076 - 1s - 1ms/step - accuracy: 0.0310 - loss: 29.8782\n",
      "Epoch 21/30\n",
      "1076/1076 - 1s - 1ms/step - accuracy: 0.0310 - loss: 29.8782\n",
      "Epoch 22/30\n",
      "1076/1076 - 1s - 1ms/step - accuracy: 0.0310 - loss: 29.8782\n",
      "Epoch 23/30\n",
      "1076/1076 - 1s - 1ms/step - accuracy: 0.0310 - loss: 29.8782\n",
      "Epoch 24/30\n",
      "1076/1076 - 1s - 1ms/step - accuracy: 0.0310 - loss: 29.8782\n",
      "Epoch 25/30\n",
      "1076/1076 - 1s - 1ms/step - accuracy: 0.0310 - loss: 29.8782\n",
      "Epoch 26/30\n",
      "1076/1076 - 1s - 1ms/step - accuracy: 0.0310 - loss: 29.8782\n",
      "Epoch 27/30\n",
      "1076/1076 - 1s - 1ms/step - accuracy: 0.0310 - loss: 29.8782\n",
      "Epoch 28/30\n",
      "1076/1076 - 1s - 1ms/step - accuracy: 0.0310 - loss: 29.8782\n",
      "Epoch 29/30\n",
      "1076/1076 - 1s - 1ms/step - accuracy: 0.0310 - loss: 29.8782\n",
      "Epoch 30/30\n",
      "1076/1076 - 1s - 1ms/step - accuracy: 0.0310 - loss: 29.8782\n"
     ]
    },
    {
     "data": {
      "text/plain": [
       "<keras.src.callbacks.history.History at 0x21d386fbf50>"
      ]
     },
     "execution_count": 84,
     "metadata": {},
     "output_type": "execute_result"
    }
   ],
   "source": [
    "model.compile(loss='categorical_crossentropy', optimizer='adam', metrics=['accuracy'])\n",
    "model.fit(X_train, y_train, batch_size=batch_size, epochs=epochs, verbose=2)"
   ]
  },
  {
   "cell_type": "code",
   "execution_count": 86,
   "id": "178a5447",
   "metadata": {},
   "outputs": [],
   "source": [
    "epochs = 10\n",
    "batch_size = 16\n",
    "n_hidden = 64\n",
    "\n",
    "timesteps = len(X_train[0])\n",
    "input_dim = len(X_train[0][0])\n",
    "n_classes = len(y_train[0])\n",
    "\n",
    "model = Sequential()\n",
    "model.add(Conv1D(n_hidden, kernel_size=2, activation='relu', input_shape=(timesteps, input_dim)))\n",
    "model.add(Dense(16, activation='relu'))\n",
    "model.add(MaxPooling1D())\n",
    "model.add(Flatten())\n",
    "model.add(Dense(n_classes, activation='sigmoid')) # Options: sigmoid, tanh, softmax, relu"
   ]
  },
  {
   "cell_type": "code",
   "execution_count": 87,
   "id": "0f5703cc",
   "metadata": {},
   "outputs": [
    {
     "name": "stdout",
     "output_type": "stream",
     "text": [
      "Epoch 1/10\n",
      "1076/1076 - 2s - 2ms/step - accuracy: 0.6209 - loss: 7597.9595\n",
      "Epoch 2/10\n",
      "1076/1076 - 1s - 1ms/step - accuracy: 0.6435 - loss: 85819.2109\n",
      "Epoch 3/10\n",
      "1076/1076 - 1s - 1ms/step - accuracy: 0.6437 - loss: 281249.7812\n",
      "Epoch 4/10\n",
      "1076/1076 - 1s - 1ms/step - accuracy: 0.6438 - loss: 619116.2500\n",
      "Epoch 5/10\n",
      "1076/1076 - 1s - 1ms/step - accuracy: 0.6437 - loss: 1107989.8750\n",
      "Epoch 6/10\n",
      "1076/1076 - 1s - 1ms/step - accuracy: 0.6437 - loss: 1784685.7500\n",
      "Epoch 7/10\n",
      "1076/1076 - 1s - 1ms/step - accuracy: 0.6436 - loss: 2574670.0000\n",
      "Epoch 8/10\n",
      "1076/1076 - 1s - 1ms/step - accuracy: 0.6436 - loss: 3594610.2500\n",
      "Epoch 9/10\n",
      "1076/1076 - 1s - 1ms/step - accuracy: 0.6437 - loss: 4819203.0000\n",
      "Epoch 10/10\n",
      "1076/1076 - 1s - 1ms/step - accuracy: 0.6438 - loss: 6274919.0000\n"
     ]
    },
    {
     "data": {
      "text/plain": [
       "<keras.src.callbacks.history.History at 0x21d38742990>"
      ]
     },
     "execution_count": 87,
     "metadata": {},
     "output_type": "execute_result"
    }
   ],
   "source": [
    "model.compile(loss='categorical_crossentropy', optimizer='adam', metrics=['accuracy'])\n",
    "model.fit(X_train, y_train, batch_size=batch_size, epochs=epochs, verbose=2)"
   ]
  },
  {
   "cell_type": "code",
   "execution_count": 90,
   "id": "cbc32953",
   "metadata": {},
   "outputs": [],
   "source": [
    "epochs = 10\n",
    "batch_size = 16\n",
    "n_hidden = 64\n",
    "\n",
    "timesteps = len(X_train[0])\n",
    "input_dim = len(X_train[0][0])\n",
    "n_classes = len(y_train[0])\n",
    "\n",
    "model = Sequential()\n",
    "model.add(Conv1D(n_hidden, kernel_size=2, activation='relu', input_shape=(timesteps, input_dim)))\n",
    "model.add(Dense(16, activation='relu'))\n",
    "model.add(MaxPooling1D())\n",
    "model.add(Flatten())\n",
    "model.add(Dense(n_classes, activation='relu')) # Options: sigmoid, tanh, softmax, relu"
   ]
  },
  {
   "cell_type": "code",
   "execution_count": 91,
   "id": "0d16b814",
   "metadata": {},
   "outputs": [
    {
     "name": "stdout",
     "output_type": "stream",
     "text": [
      "Epoch 1/10\n",
      "1076/1076 - 2s - 2ms/step - accuracy: 0.3638 - loss: nan\n",
      "Epoch 2/10\n",
      "1076/1076 - 1s - 1ms/step - accuracy: 0.6440 - loss: nan\n",
      "Epoch 3/10\n",
      "1076/1076 - 1s - 1ms/step - accuracy: 0.6440 - loss: nan\n",
      "Epoch 4/10\n",
      "1076/1076 - 1s - 1ms/step - accuracy: 0.6440 - loss: nan\n",
      "Epoch 5/10\n",
      "1076/1076 - 1s - 1ms/step - accuracy: 0.6440 - loss: nan\n",
      "Epoch 6/10\n",
      "1076/1076 - 1s - 1ms/step - accuracy: 0.6440 - loss: nan\n",
      "Epoch 7/10\n",
      "1076/1076 - 1s - 1ms/step - accuracy: 0.6440 - loss: nan\n",
      "Epoch 8/10\n",
      "1076/1076 - 1s - 1ms/step - accuracy: 0.6440 - loss: nan\n",
      "Epoch 9/10\n",
      "1076/1076 - 1s - 1ms/step - accuracy: 0.6440 - loss: nan\n",
      "Epoch 10/10\n",
      "1076/1076 - 1s - 1ms/step - accuracy: 0.6440 - loss: nan\n"
     ]
    },
    {
     "data": {
      "text/plain": [
       "<keras.src.callbacks.history.History at 0x21d38c66e70>"
      ]
     },
     "execution_count": 91,
     "metadata": {},
     "output_type": "execute_result"
    }
   ],
   "source": [
    "model.compile(loss='categorical_crossentropy', optimizer='adam', metrics=['accuracy'])\n",
    "model.fit(X_train, y_train, batch_size=batch_size, epochs=epochs, verbose=2)"
   ]
  },
  {
   "cell_type": "markdown",
   "id": "7c8fa1d8",
   "metadata": {},
   "source": [
    "# Confusion Matrices"
   ]
  },
  {
   "cell_type": "code",
   "execution_count": 92,
   "id": "ef110e87",
   "metadata": {},
   "outputs": [],
   "source": [
    "# Define list of stations names\n",
    "\n",
    "stations = {\n",
    "0: 'BASEL',\n",
    "1: 'BELGRADE',\n",
    "2: 'BUDAPEST',\n",
    "3: 'DEBILT',\n",
    "4: 'DUSSELDORF',\n",
    "5: 'HEATHROW',\n",
    "6: 'KASSEL',\n",
    "7: 'LJUBLJANA',\n",
    "8: 'MAASTRICHT',\n",
    "9: 'MADRID',\n",
    "10: 'MUNCHENB',\n",
    "11: 'OSLO',\n",
    "12: 'SONNBLICK',\n",
    "13: 'STOCKHOLM',\n",
    "14: 'VALENTIA'\n",
    "\n",
    "}"
   ]
  },
  {
   "cell_type": "code",
   "execution_count": 93,
   "id": "0b385fa6",
   "metadata": {},
   "outputs": [],
   "source": [
    "def confusion_matrix(y_true, y_pred):\n",
    "    y_true = pd.Series([stations[y] for y in np.argmax(y_true, axis=1)])\n",
    "    y_pred = pd.Series([stations[y] for y in np.argmax(y_pred, axis=1)])\n",
    "\n",
    "    return pd.crosstab(y_true, y_pred, rownames=['True'], colnames=['Pred'])"
   ]
  },
  {
   "cell_type": "markdown",
   "id": "41ede274",
   "metadata": {},
   "source": [
    "## Final Matrix"
   ]
  },
  {
   "cell_type": "code",
   "execution_count": 94,
   "id": "ce3d8397",
   "metadata": {},
   "outputs": [
    {
     "name": "stdout",
     "output_type": "stream",
     "text": [
      "\u001b[1m180/180\u001b[0m \u001b[32m━━━━━━━━━━━━━━━━━━━━\u001b[0m\u001b[37m\u001b[0m \u001b[1m0s\u001b[0m 862us/step\n",
      "Pred        BASEL\n",
      "True             \n",
      "BASEL        3682\n",
      "BELGRADE     1092\n",
      "BUDAPEST      214\n",
      "DEBILT         82\n",
      "DUSSELDORF     29\n",
      "HEATHROW       82\n",
      "KASSEL         11\n",
      "LJUBLJANA      61\n",
      "MAASTRICHT      9\n",
      "MADRID        458\n",
      "MUNCHENB        8\n",
      "OSLO            5\n",
      "STOCKHOLM       4\n",
      "VALENTIA        1\n"
     ]
    }
   ],
   "source": [
    "# Evaluate\n",
    "\n",
    "print(confusion_matrix(y_test, model.predict(X_test)))"
   ]
  },
  {
   "cell_type": "markdown",
   "id": "f8a6c22e",
   "metadata": {},
   "source": [
    "## Starting Matrix"
   ]
  },
  {
   "cell_type": "code",
   "execution_count": 95,
   "id": "615eb20f",
   "metadata": {},
   "outputs": [
    {
     "name": "stderr",
     "output_type": "stream",
     "text": [
      "C:\\Users\\Administrator\\anaconda3\\Lib\\site-packages\\keras\\src\\layers\\convolutional\\base_conv.py:107: UserWarning: Do not pass an `input_shape`/`input_dim` argument to a layer. When using Sequential models, prefer using an `Input(shape)` object as the first layer in the model instead.\n",
      "  super().__init__(activity_regularizer=activity_regularizer, **kwargs)\n"
     ]
    }
   ],
   "source": [
    "epochs = 15\n",
    "batch_size = 8\n",
    "n_hidden = 16\n",
    "\n",
    "timesteps = len(X_train[0])\n",
    "input_dim = len(X_train[0][0])\n",
    "n_classes = len(y_train[0])\n",
    "\n",
    "model = Sequential()\n",
    "model.add(Conv1D(n_hidden, kernel_size=2, activation='relu', input_shape=(timesteps, input_dim)))\n",
    "model.add(Dense(16, activation='relu'))\n",
    "model.add(MaxPooling1D())\n",
    "model.add(Flatten())\n",
    "model.add(Dense(n_classes, activation='sigmoid')) # Options: sigmoid, tanh, softmax, relu"
   ]
  },
  {
   "cell_type": "code",
   "execution_count": 96,
   "id": "4c11891d",
   "metadata": {},
   "outputs": [
    {
     "data": {
      "text/plain": [
       "<keras.src.callbacks.history.History at 0x21d3eec5a30>"
      ]
     },
     "execution_count": 96,
     "metadata": {},
     "output_type": "execute_result"
    }
   ],
   "source": [
    "model.compile(loss='categorical_crossentropy', optimizer='adam', metrics=['accuracy'])\n",
    "model.fit(X_train, y_train, batch_size=batch_size, epochs=epochs, verbose=0)"
   ]
  },
  {
   "cell_type": "code",
   "execution_count": 97,
   "id": "0dbcaa9f",
   "metadata": {},
   "outputs": [
    {
     "name": "stdout",
     "output_type": "stream",
     "text": [
      "\u001b[1m180/180\u001b[0m \u001b[32m━━━━━━━━━━━━━━━━━━━━\u001b[0m\u001b[37m\u001b[0m \u001b[1m0s\u001b[0m 815us/step\n",
      "Pred        BASEL  VALENTIA\n",
      "True                       \n",
      "BASEL        3680         2\n",
      "BELGRADE     1092         0\n",
      "BUDAPEST      214         0\n",
      "DEBILT         82         0\n",
      "DUSSELDORF     29         0\n",
      "HEATHROW       82         0\n",
      "KASSEL         11         0\n",
      "LJUBLJANA      61         0\n",
      "MAASTRICHT      9         0\n",
      "MADRID        458         0\n",
      "MUNCHENB        8         0\n",
      "OSLO            5         0\n",
      "STOCKHOLM       4         0\n",
      "VALENTIA        1         0\n"
     ]
    }
   ],
   "source": [
    "# Evaluate\n",
    "\n",
    "print(confusion_matrix(y_test, model.predict(X_test)))"
   ]
  },
  {
   "cell_type": "markdown",
   "id": "d1a0764a",
   "metadata": {},
   "source": [
    "# Tanh test"
   ]
  },
  {
   "cell_type": "code",
   "execution_count": 98,
   "id": "63cfe731",
   "metadata": {},
   "outputs": [
    {
     "name": "stderr",
     "output_type": "stream",
     "text": [
      "C:\\Users\\Administrator\\anaconda3\\Lib\\site-packages\\keras\\src\\layers\\convolutional\\base_conv.py:107: UserWarning: Do not pass an `input_shape`/`input_dim` argument to a layer. When using Sequential models, prefer using an `Input(shape)` object as the first layer in the model instead.\n",
      "  super().__init__(activity_regularizer=activity_regularizer, **kwargs)\n"
     ]
    }
   ],
   "source": [
    "epochs = 15\n",
    "batch_size = 8\n",
    "n_hidden = 16\n",
    "\n",
    "timesteps = len(X_train[0])\n",
    "input_dim = len(X_train[0][0])\n",
    "n_classes = len(y_train[0])\n",
    "\n",
    "model = Sequential()\n",
    "model.add(Conv1D(n_hidden, kernel_size=2, activation='relu', input_shape=(timesteps, input_dim)))\n",
    "model.add(Dense(16, activation='relu'))\n",
    "model.add(MaxPooling1D())\n",
    "model.add(Flatten())\n",
    "model.add(Dense(n_classes, activation='tanh')) # Options: sigmoid, tanh, softmax, relu"
   ]
  },
  {
   "cell_type": "code",
   "execution_count": 99,
   "id": "a34468a1",
   "metadata": {},
   "outputs": [
    {
     "data": {
      "text/plain": [
       "<keras.src.callbacks.history.History at 0x21d3f1fdbb0>"
      ]
     },
     "execution_count": 99,
     "metadata": {},
     "output_type": "execute_result"
    }
   ],
   "source": [
    "model.compile(loss='categorical_crossentropy', optimizer='adam', metrics=['accuracy'])\n",
    "model.fit(X_train, y_train, batch_size=batch_size, epochs=epochs, verbose=0)"
   ]
  },
  {
   "cell_type": "code",
   "execution_count": 100,
   "id": "22545821",
   "metadata": {},
   "outputs": [
    {
     "name": "stdout",
     "output_type": "stream",
     "text": [
      "\u001b[1m180/180\u001b[0m \u001b[32m━━━━━━━━━━━━━━━━━━━━\u001b[0m\u001b[37m\u001b[0m \u001b[1m0s\u001b[0m 802us/step\n",
      "Pred        BUDAPEST  DEBILT  HEATHROW  MAASTRICHT  MADRID  MUNCHENB  VALENTIA\n",
      "True                                                                          \n",
      "BASEL           3416      93         1           3       1        80        88\n",
      "BELGRADE        1090       1         0           0       0         1         0\n",
      "BUDAPEST         214       0         0           0       0         0         0\n",
      "DEBILT            82       0         0           0       0         0         0\n",
      "DUSSELDORF        29       0         0           0       0         0         0\n",
      "HEATHROW          82       0         0           0       0         0         0\n",
      "KASSEL            11       0         0           0       0         0         0\n",
      "LJUBLJANA         61       0         0           0       0         0         0\n",
      "MAASTRICHT         9       0         0           0       0         0         0\n",
      "MADRID           458       0         0           0       0         0         0\n",
      "MUNCHENB           8       0         0           0       0         0         0\n",
      "OSLO               5       0         0           0       0         0         0\n",
      "STOCKHOLM          4       0         0           0       0         0         0\n",
      "VALENTIA           1       0         0           0       0         0         0\n"
     ]
    }
   ],
   "source": [
    "# Evaluate\n",
    "\n",
    "print(confusion_matrix(y_test, model.predict(X_test)))"
   ]
  },
  {
   "cell_type": "code",
   "execution_count": 101,
   "id": "5ed6f541",
   "metadata": {},
   "outputs": [
    {
     "name": "stderr",
     "output_type": "stream",
     "text": [
      "C:\\Users\\Administrator\\anaconda3\\Lib\\site-packages\\keras\\src\\layers\\convolutional\\base_conv.py:107: UserWarning: Do not pass an `input_shape`/`input_dim` argument to a layer. When using Sequential models, prefer using an `Input(shape)` object as the first layer in the model instead.\n",
      "  super().__init__(activity_regularizer=activity_regularizer, **kwargs)\n"
     ]
    }
   ],
   "source": [
    "epochs = 30\n",
    "batch_size = 16\n",
    "n_hidden = 64\n",
    "\n",
    "timesteps = len(X_train[0])\n",
    "input_dim = len(X_train[0][0])\n",
    "n_classes = len(y_train[0])\n",
    "\n",
    "model = Sequential()\n",
    "model.add(Conv1D(n_hidden, kernel_size=2, activation='relu', input_shape=(timesteps, input_dim)))\n",
    "model.add(Dense(16, activation='relu'))\n",
    "model.add(MaxPooling1D())\n",
    "model.add(Flatten())\n",
    "model.add(Dense(n_classes, activation='tanh')) # Options: sigmoid, tanh, softmax, relu"
   ]
  },
  {
   "cell_type": "code",
   "execution_count": 102,
   "id": "0441d3df",
   "metadata": {},
   "outputs": [
    {
     "data": {
      "text/plain": [
       "<keras.src.callbacks.history.History at 0x21d43499fa0>"
      ]
     },
     "execution_count": 102,
     "metadata": {},
     "output_type": "execute_result"
    }
   ],
   "source": [
    "model.compile(loss='categorical_crossentropy', optimizer='adam', metrics=['accuracy'])\n",
    "model.fit(X_train, y_train, batch_size=batch_size, epochs=epochs, verbose=0)"
   ]
  },
  {
   "cell_type": "code",
   "execution_count": 103,
   "id": "a0c42de9",
   "metadata": {},
   "outputs": [
    {
     "name": "stdout",
     "output_type": "stream",
     "text": [
      "\u001b[1m180/180\u001b[0m \u001b[32m━━━━━━━━━━━━━━━━━━━━\u001b[0m\u001b[37m\u001b[0m \u001b[1m0s\u001b[0m 835us/step\n",
      "Pred        BASEL  BELGRADE  DEBILT  DUSSELDORF  OSLO  SONNBLICK  VALENTIA\n",
      "True                                                                      \n",
      "BASEL        2507       598      21           3    20        515        18\n",
      "BELGRADE      697        16      14           0     0        365         0\n",
      "BUDAPEST      133         6       5           0     0         70         0\n",
      "DEBILT         76         2       0           0     0          4         0\n",
      "DUSSELDORF     24         0       1           0     0          4         0\n",
      "HEATHROW       53         9       9           0     0         11         0\n",
      "KASSEL         11         0       0           0     0          0         0\n",
      "LJUBLJANA      35         2       4           0     0         20         0\n",
      "MAASTRICHT      9         0       0           0     0          0         0\n",
      "MADRID        208        66      11           0     2        171         0\n",
      "MUNCHENB        4         0       0           0     0          4         0\n",
      "OSLO            3         0       2           0     0          0         0\n",
      "STOCKHOLM       3         0       0           0     0          1         0\n",
      "VALENTIA        1         0       0           0     0          0         0\n"
     ]
    }
   ],
   "source": [
    "# Evaluate\n",
    "\n",
    "print(confusion_matrix(y_test, model.predict(X_test)))"
   ]
  },
  {
   "cell_type": "code",
   "execution_count": null,
   "id": "280a13f4",
   "metadata": {},
   "outputs": [],
   "source": []
  }
 ],
 "metadata": {
  "kernelspec": {
   "display_name": "Python 3 (ipykernel)",
   "language": "python",
   "name": "python3"
  },
  "language_info": {
   "codemirror_mode": {
    "name": "ipython",
    "version": 3
   },
   "file_extension": ".py",
   "mimetype": "text/x-python",
   "name": "python",
   "nbconvert_exporter": "python",
   "pygments_lexer": "ipython3",
   "version": "3.12.3"
  },
  "toc": {
   "base_numbering": 1,
   "nav_menu": {},
   "number_sections": true,
   "sideBar": true,
   "skip_h1_title": false,
   "title_cell": "Table of Contents",
   "title_sidebar": "Contents",
   "toc_cell": false,
   "toc_position": {},
   "toc_section_display": true,
   "toc_window_display": false
  }
 },
 "nbformat": 4,
 "nbformat_minor": 5
}
